{
 "cells": [
  {
   "cell_type": "markdown",
   "id": "f58c8e8a-317e-4305-a2fd-49759cf727ff",
   "metadata": {},
   "source": [
    "###  Циклы while и for"
   ]
  },
  {
   "cell_type": "code",
   "execution_count": 416,
   "id": "1562453c-d034-4784-9d1f-476d5c318d4a",
   "metadata": {},
   "outputs": [
    {
     "name": "stdout",
     "output_type": "stream",
     "text": [
      "1\n",
      "2\n",
      "3\n",
      "4\n",
      "5\n",
      "6\n",
      "7\n",
      "8\n",
      "9\n",
      "10\n"
     ]
    }
   ],
   "source": [
    "# Формирование элементов массива:\n",
    "\n",
    "# пока n<10 прибавить к n единицу и распечатать значение:\n",
    "n = 0\n",
    "while n < 10\n",
    "    n += 1\n",
    "    println(n)\n",
    "end"
   ]
  },
  {
   "cell_type": "code",
   "execution_count": 3,
   "id": "d9c2f764-6453-4c14-90bb-d3937e346006",
   "metadata": {},
   "outputs": [
    {
     "name": "stdout",
     "output_type": "stream",
     "text": [
      "Hi Ted, it's great to see you!\n",
      "Hi Robyn, it's great to see you!\n",
      "Hi Barney, it's great to see you!\n",
      "Hi Lily, it's great to see you!\n",
      "Hi Marshall, it's great to see you!\n"
     ]
    }
   ],
   "source": [
    "# Демонстрация использования while при работе со строковыми элементами массива:\n",
    "myfriends = [\"Ted\", \"Robyn\", \"Barney\", \"Lily\", \"Marshall\"]\n",
    "\n",
    "i = 1\n",
    "while i <= length(myfriends)\n",
    "    friend = myfriends[i]\n",
    "    println(\"Hi $friend, it's great to see you!\")\n",
    "    i += 1\n",
    "end\n"
   ]
  },
  {
   "cell_type": "code",
   "execution_count": 4,
   "id": "a8393ff0-31d3-431e-a219-c24c3978160f",
   "metadata": {},
   "outputs": [
    {
     "name": "stdout",
     "output_type": "stream",
     "text": [
      "1\n",
      "3\n",
      "5\n",
      "7\n",
      "9\n"
     ]
    }
   ],
   "source": [
    "# Рассмотренные выше примеры, но с использованием цикла for:\n",
    "for n in 1:2:10\n",
    "    println(n)\n",
    "end"
   ]
  },
  {
   "cell_type": "code",
   "execution_count": 7,
   "id": "2031001d-5263-4a24-b943-cbcc3babf09b",
   "metadata": {},
   "outputs": [
    {
     "name": "stdout",
     "output_type": "stream",
     "text": [
      "Hi Ted, it's great to see you!\n",
      "Hi Robyn, it's great to see you!\n",
      "Hi Barney, it's great to see you!\n",
      "Hi Lily, it's great to see you!\n",
      "Hi Marshall, it's great to see you!\n"
     ]
    }
   ],
   "source": [
    "# Рассмотренные выше примеры, но с использованием цикла for:\n",
    "myfriends = [\"Ted\", \"Robyn\", \"Barney\", \"Lily\", \"Marshall\"]\n",
    "\n",
    "for friend in myfriends\n",
    "    println(\"Hi $friend, it's great to see you!\")\n",
    "end"
   ]
  },
  {
   "cell_type": "code",
   "execution_count": 179,
   "id": "f9ab72dc-9e16-4811-a042-8e5eaa64241e",
   "metadata": {},
   "outputs": [
    {
     "data": {
      "text/plain": [
       "5×5 Matrix{Int64}:\n",
       " 2  3  4  5   6\n",
       " 3  4  5  6   7\n",
       " 4  5  6  7   8\n",
       " 5  6  7  8   9\n",
       " 6  7  8  9  10"
      ]
     },
     "execution_count": 179,
     "metadata": {},
     "output_type": "execute_result"
    }
   ],
   "source": [
    "# Пример использования цикла for для создания двумерного массива, \n",
    "# в котором значение каждой записи является суммой индексов строки и столбца:\n",
    "\n",
    "# инициализация массива m x n из нулей:\n",
    "m, n = 5, 5\n",
    "A = fill(0, (m, n))\n",
    "\n",
    "# формирование массива, в котором значение каждой записи\n",
    "# является суммой индексов строки и столбца:\n",
    "for i in 1:m\n",
    "    for j in 1:n\n",
    "        A[i, j] = i + j\n",
    "    end\n",
    "end\n",
    "A"
   ]
  },
  {
   "cell_type": "code",
   "execution_count": 10,
   "id": "60a7fc60-ddf1-4cff-9dce-93b09daaf81c",
   "metadata": {},
   "outputs": [
    {
     "data": {
      "text/plain": [
       "5×5 Matrix{Int64}:\n",
       " 2  3  4  5   6\n",
       " 3  4  5  6   7\n",
       " 4  5  6  7   8\n",
       " 5  6  7  8   9\n",
       " 6  7  8  9  10"
      ]
     },
     "execution_count": 10,
     "metadata": {},
     "output_type": "execute_result"
    }
   ],
   "source": [
    "# Другая реализация примера выше:\n",
    "\n",
    "# инициализация массива m x n из нулей:\n",
    "B = fill(0, (m, n))\n",
    "\n",
    "for i in 1:m, j in 1:n\n",
    "    B[i, j] = i + j\n",
    "end\n",
    "B"
   ]
  },
  {
   "cell_type": "code",
   "execution_count": 11,
   "id": "f9fb2b72-206c-45d8-94a7-2c51f3ab7797",
   "metadata": {},
   "outputs": [
    {
     "data": {
      "text/plain": [
       "5×5 Matrix{Int64}:\n",
       " 2  3  4  5   6\n",
       " 3  4  5  6   7\n",
       " 4  5  6  7   8\n",
       " 5  6  7  8   9\n",
       " 6  7  8  9  10"
      ]
     },
     "execution_count": 11,
     "metadata": {},
     "output_type": "execute_result"
    }
   ],
   "source": [
    "# Ещё одна реализация этого же примера:\n",
    "\n",
    "C = [i + j for i in 1:m, j in 1:n]\n",
    "C"
   ]
  },
  {
   "cell_type": "markdown",
   "id": "537370f4-cf23-4703-9a66-aaf000caebe5",
   "metadata": {},
   "source": [
    "### Условные выражения"
   ]
  },
  {
   "cell_type": "code",
   "execution_count": 13,
   "id": "d1937f3a-4962-415a-b02a-592016f08197",
   "metadata": {},
   "outputs": [
    {
     "name": "stdout",
     "output_type": "stream",
     "text": [
      "Buzz\n"
     ]
    }
   ],
   "source": [
    "# Пусть для заданного числа 𝑁 требуется вывести слово «Fizz», если 𝑁 делится на 3, \n",
    "# «Buzz», если 𝑁 делится на 5, и «FizzBuzz», если 𝑁 делится на 3 и 5:\n",
    "\n",
    "# используем `&&` для реализации операции \"AND\"\n",
    "# операция % вычисляет остаток от деления\n",
    "N = 100\n",
    "\n",
    "if (N % 3 == 0) && (N % 5 == 0)\n",
    "    println(\"FizzBuzz\")\n",
    "elseif N % 3 == 0\n",
    "    println(\"Fizz\")\n",
    "elseif N % 5 == 0\n",
    "    println(\"Buzz\")\n",
    "else\n",
    "    println(N)\n",
    "end"
   ]
  },
  {
   "cell_type": "code",
   "execution_count": 14,
   "id": "e41ccbe9-bbc1-4bfe-8b00-148e9bd97b54",
   "metadata": {},
   "outputs": [
    {
     "data": {
      "text/plain": [
       "10"
      ]
     },
     "execution_count": 14,
     "metadata": {},
     "output_type": "execute_result"
    }
   ],
   "source": [
    "# Пример использования тернарного оператора:\n",
    "\n",
    "x = 5\n",
    "y = 10\n",
    "\n",
    "(x > y) ? x : y"
   ]
  },
  {
   "cell_type": "markdown",
   "id": "370495dd-ca56-44f9-83d9-b21a41244c8a",
   "metadata": {},
   "source": [
    "### Функции"
   ]
  },
  {
   "cell_type": "code",
   "execution_count": 19,
   "id": "3215f49e-dadb-4e2f-89aa-68ffe3a3bb76",
   "metadata": {},
   "outputs": [
    {
     "name": "stdout",
     "output_type": "stream",
     "text": [
      "Hi C-3PO, it's great to see you!\n"
     ]
    },
    {
     "data": {
      "text/plain": [
       "1764"
      ]
     },
     "execution_count": 19,
     "metadata": {},
     "output_type": "execute_result"
    }
   ],
   "source": [
    "# Первый способ требует ключевых слов function и end:\n",
    "\n",
    "function sayhi(name)\n",
    "    println(\"Hi $name, it's great to see you!\")\n",
    "end\n",
    "# функция возведения в квадрат:\n",
    "function f(x)\n",
    "    x^2\n",
    "end\n",
    "\n",
    "# Вызов функции осуществляется по её имени с указанием аргументов, например:\n",
    "sayhi(\"C-3PO\")\n",
    "f(42)"
   ]
  },
  {
   "cell_type": "code",
   "execution_count": 23,
   "id": "6d70fa4c-9107-4e61-b6aa-d6b320b31a73",
   "metadata": {},
   "outputs": [
    {
     "name": "stdout",
     "output_type": "stream",
     "text": [
      "Hi C-3PO, it's great to see you!\n"
     ]
    },
    {
     "data": {
      "text/plain": [
       "1764"
      ]
     },
     "execution_count": 23,
     "metadata": {},
     "output_type": "execute_result"
    }
   ],
   "source": [
    "# В качестве альтернативы, можно объявить любую из выше определённых функций в одной строке:\n",
    "\n",
    "sayhi2(name) = println(\"Hi $name, it's great to see you!\")\n",
    "f2(x) = x^2\n",
    "\n",
    "sayhi(\"C-3PO\")\n",
    "f(42)"
   ]
  },
  {
   "cell_type": "code",
   "execution_count": 25,
   "id": "c2810313-5d2d-4c86-8348-4097ca7222e8",
   "metadata": {},
   "outputs": [
    {
     "name": "stdout",
     "output_type": "stream",
     "text": [
      "Hi C-3PO, it's great to see you!\n"
     ]
    },
    {
     "data": {
      "text/plain": [
       "1764"
      ]
     },
     "execution_count": 25,
     "metadata": {},
     "output_type": "execute_result"
    }
   ],
   "source": [
    "# Наконец, можно объявить выше определённые функции как «анонимные»:\n",
    "\n",
    "sayhi3 = name -> println(\"Hi $name, it's great to see you!\")\n",
    "f3 = x -> x^2\n",
    "\n",
    "sayhi(\"C-3PO\")\n",
    "f(42)"
   ]
  },
  {
   "cell_type": "code",
   "execution_count": 27,
   "id": "2d0a9f41-333c-4a1a-a1f4-01b97caad2ea",
   "metadata": {},
   "outputs": [
    {
     "data": {
      "text/plain": [
       "3-element Vector{Int64}:\n",
       " 3\n",
       " 5\n",
       " 2"
      ]
     },
     "execution_count": 27,
     "metadata": {},
     "output_type": "execute_result"
    }
   ],
   "source": [
    "# Сравнение результата применения sort и sort!:\n",
    "\n",
    "# задаём массив v:\n",
    "v = [3, 5, 2]\n",
    "sort(v)\n",
    "v"
   ]
  },
  {
   "cell_type": "code",
   "execution_count": 28,
   "id": "648007cf-660b-439f-8740-eb9b97341833",
   "metadata": {},
   "outputs": [
    {
     "data": {
      "text/plain": [
       "3-element Vector{Int64}:\n",
       " 2\n",
       " 3\n",
       " 5"
      ]
     },
     "execution_count": 28,
     "metadata": {},
     "output_type": "execute_result"
    }
   ],
   "source": [
    "sort!(v)\n",
    "v"
   ]
  },
  {
   "cell_type": "code",
   "execution_count": 31,
   "id": "1a153a72-7527-440a-927a-027561bebbf4",
   "metadata": {},
   "outputs": [
    {
     "data": {
      "text/plain": [
       "3-element Vector{Int64}:\n",
       "  1\n",
       "  8\n",
       " 27"
      ]
     },
     "execution_count": 31,
     "metadata": {},
     "output_type": "execute_result"
    }
   ],
   "source": [
    "# В Julia функция map является функцией высшего порядка, которая принимает функцию\n",
    "# в качестве одного из своих входных аргументов и применяет эту функцию к каждому\n",
    "# элементу структуры данных, которая ей передаётся также в качестве аргумента\n",
    "\n",
    "f(x) = x^3\n",
    "map(f, [1, 2, 3])"
   ]
  },
  {
   "cell_type": "code",
   "execution_count": 418,
   "id": "cfd7f7e8-df67-41bc-8cde-5db0669f375d",
   "metadata": {},
   "outputs": [
    {
     "data": {
      "text/plain": [
       "3-element Vector{Int64}:\n",
       " 1\n",
       " 4\n",
       " 9"
      ]
     },
     "execution_count": 418,
     "metadata": {},
     "output_type": "execute_result"
    }
   ],
   "source": [
    "# Функция broadcast — ещё одна функция высшего порядка в Julia, представляющая собой обобщение функции map.\n",
    "# Функция broadcast() будет пытаться привести все объекты к общему измерению, map() будет напрямую применять \n",
    "# данную функцию поэлементно\n",
    "\n",
    "f(x) = x^2\n",
    "broadcast(f, [1, 2, 3])"
   ]
  },
  {
   "cell_type": "markdown",
   "id": "2adc54f6-6174-4eb7-99b4-3212190d9ab0",
   "metadata": {},
   "source": [
    "### Сторонние библиотеки (пакеты) в Julia"
   ]
  },
  {
   "cell_type": "code",
   "execution_count": 420,
   "id": "6414ffd4-57b2-466b-8384-4a2435369bfb",
   "metadata": {},
   "outputs": [
    {
     "name": "stderr",
     "output_type": "stream",
     "text": [
      "\u001b[32m\u001b[1m   Resolving\u001b[22m\u001b[39m package versions...\n",
      "\u001b[32m\u001b[1m  No Changes\u001b[22m\u001b[39m to `C:\\Users\\airan\\.julia\\environments\\v1.11\\Project.toml`\n",
      "\u001b[32m\u001b[1m  No Changes\u001b[22m\u001b[39m to `C:\\Users\\airan\\.julia\\environments\\v1.11\\Manifest.toml`\n"
     ]
    },
    {
     "data": {
      "image/svg+xml": [
       "<?xml version=\"1.0\" encoding=\"UTF-8\"?>\n",
       "<!DOCTYPE svg PUBLIC \"-//W3C//DTD SVG 1.1//EN\"\n",
       " \"http://www.w3.org/Graphics/SVG/1.1/DTD/svg11.dtd\">\n",
       "<svg xmlns=\"http://www.w3.org/2000/svg\" version=\"1.1\"\n",
       "     width=\"75mm\" height=\"75mm\"\n",
       "     viewBox=\"0 0 3 3\" preserveAspectRatio=\"none\"\n",
       "     shape-rendering=\"crispEdges\" stroke=\"none\">\n",
       "<rect width=\".96\" height=\".96\" x=\"0\" y=\"0\" fill=\"#005577\" />\n",
       "<rect width=\".96\" height=\".96\" x=\"1\" y=\"0\" fill=\"#B1DCFC\" />\n",
       "<rect width=\".96\" height=\".96\" x=\"2\" y=\"0\" fill=\"#A78600\" />\n",
       "<rect width=\".96\" height=\".96\" x=\"0\" y=\"1\" fill=\"#9E9E77\" />\n",
       "<rect width=\".96\" height=\".96\" x=\"1\" y=\"1\" fill=\"#2E2124\" />\n",
       "<rect width=\".96\" height=\".96\" x=\"2\" y=\"1\" fill=\"#620019\" />\n",
       "<rect width=\".96\" height=\".96\" x=\"0\" y=\"2\" fill=\"#005577\" />\n",
       "<rect width=\".96\" height=\".96\" x=\"1\" y=\"2\" fill=\"#7A7581\" />\n",
       "<rect width=\".96\" height=\".96\" x=\"2\" y=\"2\" fill=\"#0050E6\" />\n",
       "</svg>"
      ],
      "text/plain": [
       "3×3 Matrix{RGB{FixedPointNumbers.N0f8}}:\n",
       " RGB(0.0, 0.333, 0.467)  RGB(0.694, 0.863, 0.988)  RGB(0.655, 0.525, 0.0)\n",
       " RGB(0.62, 0.62, 0.467)  RGB(0.18, 0.129, 0.141)   RGB(0.384, 0.0, 0.098)\n",
       " RGB(0.0, 0.333, 0.467)  RGB(0.478, 0.459, 0.506)  RGB(0.0, 0.314, 0.902)"
      ]
     },
     "execution_count": 420,
     "metadata": {},
     "output_type": "execute_result"
    }
   ],
   "source": [
    "## Добавим и загрузим пакет Colors:\n",
    "import Pkg\n",
    "Pkg.add(\"Colors\")\n",
    "using Colors\n",
    "\n",
    "# Затем создадим палитру из 100 разных цветов:\n",
    "palette = distinguishable_colors(100)\n",
    "\n",
    "# а затем определим матрицу 3 × 3 с элементами в форме случайного цвета из палитры, используя функцию rand:\n",
    "rand(palette, 3, 3)"
   ]
  },
  {
   "cell_type": "markdown",
   "id": "3164d101-777e-417e-8000-aa05e668a8d3",
   "metadata": {},
   "source": [
    "# Самостоятельная работа "
   ]
  },
  {
   "cell_type": "markdown",
   "id": "23931ffa-8a3b-4c31-8c45-aa9c1783a27a",
   "metadata": {},
   "source": [
    "## 1. Используя циклы while и for:"
   ]
  },
  {
   "cell_type": "markdown",
   "id": "3283e9d3-8fdc-4ad6-80e0-25dd5f133050",
   "metadata": {},
   "source": [
    "#### №1. Используя циклы while и for:"
   ]
  },
  {
   "cell_type": "markdown",
   "id": "e25dcc2a-06c0-49f3-80be-396238cd2165",
   "metadata": {},
   "source": [
    "##### 1.1) выведите на экран целые числа от 1 до 100 и напечатайте их квадраты:"
   ]
  },
  {
   "cell_type": "code",
   "execution_count": 112,
   "id": "0e5a3210-2149-43ec-82e0-ef391ef92874",
   "metadata": {},
   "outputs": [
    {
     "name": "stdout",
     "output_type": "stream",
     "text": [
      "1^2 = 1\n",
      "2^2 = 4\n",
      "3^2 = 9\n",
      "4^2 = 16\n",
      "5^2 = 25\n",
      "6^2 = 36\n",
      "7^2 = 49\n",
      "8^2 = 64\n",
      "9^2 = 81\n",
      "10^2 = 100\n",
      "11^2 = 121\n",
      "12^2 = 144\n",
      "13^2 = 169\n",
      "14^2 = 196\n",
      "15^2 = 225\n",
      "16^2 = 256\n",
      "17^2 = 289\n",
      "18^2 = 324\n",
      "19^2 = 361\n",
      "20^2 = 400\n",
      "21^2 = 441\n",
      "22^2 = 484\n",
      "23^2 = 529\n",
      "24^2 = 576\n",
      "25^2 = 625\n",
      "26^2 = 676\n",
      "27^2 = 729\n",
      "28^2 = 784\n",
      "29^2 = 841\n",
      "30^2 = 900\n",
      "31^2 = 961\n",
      "32^2 = 1024\n",
      "33^2 = 1089\n",
      "34^2 = 1156\n",
      "35^2 = 1225\n",
      "36^2 = 1296\n",
      "37^2 = 1369\n",
      "38^2 = 1444\n",
      "39^2 = 1521\n",
      "40^2 = 1600\n",
      "41^2 = 1681\n",
      "42^2 = 1764\n",
      "43^2 = 1849\n",
      "44^2 = 1936\n",
      "45^2 = 2025\n",
      "46^2 = 2116\n",
      "47^2 = 2209\n",
      "48^2 = 2304\n",
      "49^2 = 2401\n",
      "50^2 = 2500\n",
      "51^2 = 2601\n",
      "52^2 = 2704\n",
      "53^2 = 2809\n",
      "54^2 = 2916\n",
      "55^2 = 3025\n",
      "56^2 = 3136\n",
      "57^2 = 3249\n",
      "58^2 = 3364\n",
      "59^2 = 3481\n",
      "60^2 = 3600\n",
      "61^2 = 3721\n",
      "62^2 = 3844\n",
      "63^2 = 3969\n",
      "64^2 = 4096\n",
      "65^2 = 4225\n",
      "66^2 = 4356\n",
      "67^2 = 4489\n",
      "68^2 = 4624\n",
      "69^2 = 4761\n",
      "70^2 = 4900\n",
      "71^2 = 5041\n",
      "72^2 = 5184\n",
      "73^2 = 5329\n",
      "74^2 = 5476\n",
      "75^2 = 5625\n",
      "76^2 = 5776\n",
      "77^2 = 5929\n",
      "78^2 = 6084\n",
      "79^2 = 6241\n",
      "80^2 = 6400\n",
      "81^2 = 6561\n",
      "82^2 = 6724\n",
      "83^2 = 6889\n",
      "84^2 = 7056\n",
      "85^2 = 7225\n",
      "86^2 = 7396\n",
      "87^2 = 7569\n",
      "88^2 = 7744\n",
      "89^2 = 7921\n",
      "90^2 = 8100\n",
      "91^2 = 8281\n",
      "92^2 = 8464\n",
      "93^2 = 8649\n",
      "94^2 = 8836\n",
      "95^2 = 9025\n",
      "96^2 = 9216\n",
      "97^2 = 9409\n",
      "98^2 = 9604\n",
      "99^2 = 9801\n",
      "100^2 = 10000\n"
     ]
    }
   ],
   "source": [
    "# while\n",
    "\n",
    "n = 1\n",
    "while n <= 100\n",
    "    println(\"$n^2 = $(n^2)\")\n",
    "    n += 1\n",
    "end"
   ]
  },
  {
   "cell_type": "code",
   "execution_count": 114,
   "id": "2fc64220-f7e1-454e-9852-09cb8fcb2d84",
   "metadata": {},
   "outputs": [
    {
     "name": "stdout",
     "output_type": "stream",
     "text": [
      "1^2 = 1\n",
      "2^2 = 4\n",
      "3^2 = 9\n",
      "4^2 = 16\n",
      "5^2 = 25\n",
      "6^2 = 36\n",
      "7^2 = 49\n",
      "8^2 = 64\n",
      "9^2 = 81\n",
      "10^2 = 100\n",
      "11^2 = 121\n",
      "12^2 = 144\n",
      "13^2 = 169\n",
      "14^2 = 196\n",
      "15^2 = 225\n",
      "16^2 = 256\n",
      "17^2 = 289\n",
      "18^2 = 324\n",
      "19^2 = 361\n",
      "20^2 = 400\n",
      "21^2 = 441\n",
      "22^2 = 484\n",
      "23^2 = 529\n",
      "24^2 = 576\n",
      "25^2 = 625\n",
      "26^2 = 676\n",
      "27^2 = 729\n",
      "28^2 = 784\n",
      "29^2 = 841\n",
      "30^2 = 900\n",
      "31^2 = 961\n",
      "32^2 = 1024\n",
      "33^2 = 1089\n",
      "34^2 = 1156\n",
      "35^2 = 1225\n",
      "36^2 = 1296\n",
      "37^2 = 1369\n",
      "38^2 = 1444\n",
      "39^2 = 1521\n",
      "40^2 = 1600\n",
      "41^2 = 1681\n",
      "42^2 = 1764\n",
      "43^2 = 1849\n",
      "44^2 = 1936\n",
      "45^2 = 2025\n",
      "46^2 = 2116\n",
      "47^2 = 2209\n",
      "48^2 = 2304\n",
      "49^2 = 2401\n",
      "50^2 = 2500\n",
      "51^2 = 2601\n",
      "52^2 = 2704\n",
      "53^2 = 2809\n",
      "54^2 = 2916\n",
      "55^2 = 3025\n",
      "56^2 = 3136\n",
      "57^2 = 3249\n",
      "58^2 = 3364\n",
      "59^2 = 3481\n",
      "60^2 = 3600\n",
      "61^2 = 3721\n",
      "62^2 = 3844\n",
      "63^2 = 3969\n",
      "64^2 = 4096\n",
      "65^2 = 4225\n",
      "66^2 = 4356\n",
      "67^2 = 4489\n",
      "68^2 = 4624\n",
      "69^2 = 4761\n",
      "70^2 = 4900\n",
      "71^2 = 5041\n",
      "72^2 = 5184\n",
      "73^2 = 5329\n",
      "74^2 = 5476\n",
      "75^2 = 5625\n",
      "76^2 = 5776\n",
      "77^2 = 5929\n",
      "78^2 = 6084\n",
      "79^2 = 6241\n",
      "80^2 = 6400\n",
      "81^2 = 6561\n",
      "82^2 = 6724\n",
      "83^2 = 6889\n",
      "84^2 = 7056\n",
      "85^2 = 7225\n",
      "86^2 = 7396\n",
      "87^2 = 7569\n",
      "88^2 = 7744\n",
      "89^2 = 7921\n",
      "90^2 = 8100\n",
      "91^2 = 8281\n",
      "92^2 = 8464\n",
      "93^2 = 8649\n",
      "94^2 = 8836\n",
      "95^2 = 9025\n",
      "96^2 = 9216\n",
      "97^2 = 9409\n",
      "98^2 = 9604\n",
      "99^2 = 9801\n",
      "100^2 = 10000\n"
     ]
    }
   ],
   "source": [
    "# for\n",
    "\n",
    "for n in 1:100\n",
    "    println(\"$n^2 = $(n^2)\")\n",
    "end"
   ]
  },
  {
   "cell_type": "markdown",
   "id": "ef091d26-0bc3-4af4-b62a-2b7db23d34d4",
   "metadata": {},
   "source": [
    "##### 1.2) Создайте словарь squares, который будет содержать целые числа в качестве ключей и квадраты в качестве их пар-значений:"
   ]
  },
  {
   "cell_type": "code",
   "execution_count": 117,
   "id": "b131f4d1-a1b9-4d16-bf9e-8a4d1c0a9ebe",
   "metadata": {},
   "outputs": [
    {
     "name": "stdout",
     "output_type": "stream",
     "text": [
      "Dict{Any, Any}(5 => 25, 56 => 3136, 35 => 1225, 55 => 3025, 60 => 3600, 30 => 900, 32 => 1024, 6 => 36, 67 => 4489, 45 => 2025, 73 => 5329, 64 => 4096, 90 => 8100, 4 => 16, 13 => 169, 54 => 2916, 63 => 3969, 86 => 7396, 91 => 8281, 62 => 3844, 58 => 3364, 52 => 2704, 12 => 144, 28 => 784, 75 => 5625, 23 => 529, 92 => 8464, 41 => 1681, 43 => 1849, 11 => 121, 36 => 1296, 68 => 4624, 69 => 4761, 98 => 9604, 82 => 6724, 85 => 7225, 39 => 1521, 84 => 7056, 77 => 5929, 7 => 49, 25 => 625, 95 => 9025, 71 => 5041, 66 => 4356, 76 => 5776, 34 => 1156, 50 => 2500, 59 => 3481, 93 => 8649, 2 => 4, 10 => 100, 18 => 324, 26 => 676, 27 => 729, 42 => 1764, 87 => 7569, 100 => 10000, 79 => 6241, 16 => 256, 20 => 400, 81 => 6561, 19 => 361, 49 => 2401, 44 => 1936, 9 => 81, 31 => 961, 74 => 5476, 61 => 3721, 29 => 841, 94 => 8836, 46 => 2116, 57 => 3249, 70 => 4900, 21 => 441, 38 => 1444, 88 => 7744, 78 => 6084, 72 => 5184, 24 => 576, 8 => 64, 17 => 289, 37 => 1369, 1 => 1, 53 => 2809, 22 => 484, 47 => 2209, 83 => 6889, 99 => 9801, 89 => 7921, 14 => 196, 3 => 9, 80 => 6400, 96 => 9216, 51 => 2601, 33 => 1089, 40 => 1600, 48 => 2304, 15 => 225, 65 => 4225, 97 => 9409)\n"
     ]
    }
   ],
   "source": [
    "squares = Dict()\n",
    "for n in 1:100\n",
    "    squares[n] = n^2\n",
    "end\n",
    "println(squares)"
   ]
  },
  {
   "cell_type": "markdown",
   "id": "982750ec-ccdd-455c-ba7e-8157f76ea52f",
   "metadata": {},
   "source": [
    "##### 1.3) Создайте массив squares_arr, содержащий квадраты всех чисел от 1 до 100:"
   ]
  },
  {
   "cell_type": "code",
   "execution_count": 120,
   "id": "f8621aba-7b83-4a8c-b6ce-50e39709a137",
   "metadata": {},
   "outputs": [
    {
     "name": "stdout",
     "output_type": "stream",
     "text": [
      "[1, 4, 9, 16, 25, 36, 49, 64, 81, 100, 121, 144, 169, 196, 225, 256, 289, 324, 361, 400, 441, 484, 529, 576, 625, 676, 729, 784, 841, 900, 961, 1024, 1089, 1156, 1225, 1296, 1369, 1444, 1521, 1600, 1681, 1764, 1849, 1936, 2025, 2116, 2209, 2304, 2401, 2500, 2601, 2704, 2809, 2916, 3025, 3136, 3249, 3364, 3481, 3600, 3721, 3844, 3969, 4096, 4225, 4356, 4489, 4624, 4761, 4900, 5041, 5184, 5329, 5476, 5625, 5776, 5929, 6084, 6241, 6400, 6561, 6724, 6889, 7056, 7225, 7396, 7569, 7744, 7921, 8100, 8281, 8464, 8649, 8836, 9025, 9216, 9409, 9604, 9801, 10000]\n"
     ]
    }
   ],
   "source": [
    "squares_arr = [n^2 for n in 1:100]\n",
    "println(squares_arr)"
   ]
  },
  {
   "cell_type": "markdown",
   "id": "da9b99ca-8b23-4065-8c81-d0d30d7e989d",
   "metadata": {},
   "source": [
    "#### №2. Напишите условный оператор, который печатает число, если число чётное, и строку «нечётное», если число нечётное. Перепишите код, используя тернарный оператор:"
   ]
  },
  {
   "cell_type": "code",
   "execution_count": 123,
   "id": "ab10812a-5a2c-45d5-a6a5-b7c98d4c7f1f",
   "metadata": {},
   "outputs": [
    {
     "name": "stdout",
     "output_type": "stream",
     "text": [
      "42\n"
     ]
    }
   ],
   "source": [
    "# Условный оператор\n",
    "\n",
    "n = 42\n",
    "if n % 2 == 0\n",
    "    println(n)\n",
    "else\n",
    "    println(\"нечётное\")\n",
    "end"
   ]
  },
  {
   "cell_type": "code",
   "execution_count": 125,
   "id": "440d22ee-2f5b-45ae-8cfe-7a342a76a657",
   "metadata": {},
   "outputs": [
    {
     "name": "stdout",
     "output_type": "stream",
     "text": [
      "42\n"
     ]
    }
   ],
   "source": [
    "# Тернарный оператор\n",
    "\n",
    "println(n % 2 == 0 ? n : \"нечётное\")"
   ]
  },
  {
   "cell_type": "markdown",
   "id": "9a1f8ec9-bcb5-460a-b12b-88c32675c011",
   "metadata": {},
   "source": [
    "#### №3. Напишите функцию add_one, которая добавляет 1 к своему входу:"
   ]
  },
  {
   "cell_type": "code",
   "execution_count": 128,
   "id": "4d14f6cd-dd8f-4448-8148-78fe085a2940",
   "metadata": {},
   "outputs": [
    {
     "name": "stdout",
     "output_type": "stream",
     "text": [
      "6\n"
     ]
    }
   ],
   "source": [
    "function add_one(x)\n",
    "    return x + 1\n",
    "end\n",
    "println(add_one(5))"
   ]
  },
  {
   "cell_type": "markdown",
   "id": "adb6eb7a-bc3f-4634-aaf7-6e32fcf4f65a",
   "metadata": {},
   "source": [
    "#### №4. Используйте map() или broadcast() для задания матрицы 𝐴, каждый элемент которой увеличивается на единицу по сравнению с предыдущим:"
   ]
  },
  {
   "cell_type": "code",
   "execution_count": 131,
   "id": "c6de14df-5d35-4073-b21e-497180910e5b",
   "metadata": {},
   "outputs": [
    {
     "name": "stdout",
     "output_type": "stream",
     "text": [
      "[2 5 8; 3 6 9; 4 7 10]\n"
     ]
    }
   ],
   "source": [
    "# map\n",
    "\n",
    "A = reshape(1:9, 3, 3) # Пример матрицы\n",
    "B = map(x -> x + 1, A)\n",
    "println(B)"
   ]
  },
  {
   "cell_type": "code",
   "execution_count": 133,
   "id": "6b98529f-a3e6-4b6e-9957-c253563134be",
   "metadata": {},
   "outputs": [
    {
     "name": "stdout",
     "output_type": "stream",
     "text": [
      "[2 5 8; 3 6 9; 4 7 10]\n"
     ]
    }
   ],
   "source": [
    "# broadcast\n",
    "\n",
    "B = broadcast(x -> x + 1, A)\n",
    "println(B)"
   ]
  },
  {
   "cell_type": "markdown",
   "id": "cd1404c2-6295-45bc-9ed9-8bb5bb9946c8",
   "metadata": {},
   "source": [
    "#### №5. Задайте матрицу 𝐴 следующего вида. Найдите 𝐴^3. Замените третий столбец матрицы 𝐴 на сумму второго и третьего столбцов:"
   ]
  },
  {
   "cell_type": "code",
   "execution_count": 136,
   "id": "cf0fd618-7749-4cda-b4cb-c3e2c43f4576",
   "metadata": {},
   "outputs": [
    {
     "name": "stdout",
     "output_type": "stream",
     "text": [
      "[1 1 27; 125 8 216; -8 -1 -27]\n"
     ]
    }
   ],
   "source": [
    "# Определение матрицы\n",
    "A = [1 1 3; 5 2 6; -2 -1 -3]\n",
    "\n",
    "# Вычисление A в 3 степени\n",
    "println(map(x -> x^3, A))"
   ]
  },
  {
   "cell_type": "code",
   "execution_count": 138,
   "id": "ced161ad-faa6-4d30-a332-75c70d20483c",
   "metadata": {},
   "outputs": [
    {
     "name": "stdout",
     "output_type": "stream",
     "text": [
      "[1 1 4; 5 2 8; -2 -1 -4]\n"
     ]
    }
   ],
   "source": [
    "# Замена третьего столбца на сумму второго и третьего столбцов\n",
    "\n",
    "A[:, 3] = A[:, 2] + A[:, 3]\n",
    "println(A)"
   ]
  },
  {
   "cell_type": "markdown",
   "id": "93aa1349-67f8-4773-988b-63a9f142a95c",
   "metadata": {},
   "source": [
    "#### №6. Создайте матрицу 𝐵 с элементами 𝐵𝑖1 = 10, 𝐵𝑖2 = −10, 𝐵𝑖3 = 10, 𝑖 = 1, 2, … , 15. Вычислите матрицу 𝐶 = 𝐵^𝑇𝐵:"
   ]
  },
  {
   "cell_type": "code",
   "execution_count": 141,
   "id": "1f93e83d-f3ac-4be7-b969-cd90515153a3",
   "metadata": {},
   "outputs": [
    {
     "data": {
      "text/plain": [
       "15×3 Matrix{Int64}:\n",
       " 10  -10  10\n",
       " 10  -10  10\n",
       " 10  -10  10\n",
       " 10  -10  10\n",
       " 10  -10  10\n",
       " 10  -10  10\n",
       " 10  -10  10\n",
       " 10  -10  10\n",
       " 10  -10  10\n",
       " 10  -10  10\n",
       " 10  -10  10\n",
       " 10  -10  10\n",
       " 10  -10  10\n",
       " 10  -10  10\n",
       " 10  -10  10"
      ]
     },
     "execution_count": 141,
     "metadata": {},
     "output_type": "execute_result"
    }
   ],
   "source": [
    "# Создание матрицы B\n",
    "B = repeat([10 -10 10], 15, 1)"
   ]
  },
  {
   "cell_type": "code",
   "execution_count": 143,
   "id": "f25329f9-41dc-42ed-ae18-3a8d6439779c",
   "metadata": {},
   "outputs": [
    {
     "name": "stdout",
     "output_type": "stream",
     "text": [
      "[1500 -1500 1500; -1500 1500 -1500; 1500 -1500 1500]\n"
     ]
    }
   ],
   "source": [
    "# Вычисление C как B' * B\n",
    "C = B' * B\n",
    "println(C)"
   ]
  },
  {
   "cell_type": "markdown",
   "id": "f9158635-3b7f-4263-bed1-17f835a33d5a",
   "metadata": {},
   "source": [
    "#### №7. Создайте матрицу 𝑍 размерности 6 × 6, все элементы которой равны нулю, и матрицу 𝐸, все элементы которой равны 1. Используя цикл while или for и закономерности расположения элементов, создайте следующие матрицы размерности 6 × 6:"
   ]
  },
  {
   "cell_type": "code",
   "execution_count": 146,
   "id": "b5c7b4bc-1e6d-44f7-b06f-a302cff0b1ac",
   "metadata": {},
   "outputs": [
    {
     "name": "stdout",
     "output_type": "stream",
     "text": [
      "Матрица Z:\n",
      "[0, 0, 0, 0, 0, 0]\n",
      "[0, 0, 0, 0, 0, 0]\n",
      "[0, 0, 0, 0, 0, 0]\n",
      "[0, 0, 0, 0, 0, 0]\n",
      "[0, 0, 0, 0, 0, 0]\n",
      "[0, 0, 0, 0, 0, 0]\n",
      "\n",
      "Матрица Z1:\n",
      "[0, 1, 0, 0, 0, 0]\n",
      "[1, 0, 1, 0, 0, 0]\n",
      "[0, 1, 0, 1, 0, 0]\n",
      "[0, 0, 1, 0, 1, 0]\n",
      "[0, 0, 0, 1, 0, 1]\n",
      "[0, 0, 0, 0, 1, 0]\n",
      "\n",
      "Матрица Z4:\n",
      "[1, 0, 1, 0, 1, 0]\n",
      "[0, 1, 0, 1, 0, 1]\n",
      "[1, 0, 1, 0, 1, 0]\n",
      "[0, 1, 0, 1, 0, 1]\n",
      "[1, 0, 1, 0, 1, 0]\n",
      "[0, 1, 0, 1, 0, 1]\n",
      "\n"
     ]
    }
   ],
   "source": [
    "# Функция для красивого вывода матриц\n",
    "function print_matrix(mat)\n",
    "    for row in eachrow(mat)\n",
    "        println(row)\n",
    "    end\n",
    "    println()\n",
    "end\n",
    "\n",
    "# Создаем матрицу Z размерности 6x6, все элементы которой равны 0\n",
    "Z = zeros(Int, 6, 6)\n",
    "\n",
    "println(\"Матрица Z:\")\n",
    "print_matrix(Z)\n",
    "\n",
    "# Матрица Z1\n",
    "Z1 = copy(Z)\n",
    "for i in 1:6\n",
    "    for j in 1:6\n",
    "        if abs(i - j) == 1  \n",
    "            Z1[i, j] = 1\n",
    "        end\n",
    "    end\n",
    "end\n",
    "\n",
    "# Матрица Z4\n",
    "Z4 = copy(Z)  \n",
    "for i in 1:6\n",
    "    for j in 1:6\n",
    "        if (i + j) % 2 == 0  \n",
    "            Z4[i, j] = 1\n",
    "        end\n",
    "    end\n",
    "end\n",
    "\n",
    "# Выводим все матрицы\n",
    "println(\"Матрица Z1:\")\n",
    "print_matrix(Z1)\n",
    "println(\"Матрица Z4:\")\n",
    "print_matrix(Z4)"
   ]
  },
  {
   "cell_type": "markdown",
   "id": "7fc0deec-9efe-4d02-9125-f4b9d551e7fd",
   "metadata": {},
   "source": [
    "#### №8. В языке R есть функция outer(). Фактически, это матричное умножение с возможностью изменить применяемую операцию (например, заменить произведение на сложение или возведение в степень):"
   ]
  },
  {
   "cell_type": "markdown",
   "id": "1fb19959-59e0-4940-8b4c-71659c247f1c",
   "metadata": {},
   "source": [
    "##### 8.1) Напишите свою функцию, аналогичную функции outer() языка R. Функция должна иметь следующий интерфейс: outer(x,y,operation):"
   ]
  },
  {
   "cell_type": "code",
   "execution_count": 150,
   "id": "9f6533b5-7ae4-468d-ab49-b56c9f42b81a",
   "metadata": {},
   "outputs": [
    {
     "data": {
      "text/plain": [
       "outer (generic function with 1 method)"
      ]
     },
     "execution_count": 150,
     "metadata": {},
     "output_type": "execute_result"
    }
   ],
   "source": [
    "function outer(x, y, operation)\n",
    "    return [operation(xi, yj) for xi in x, yj in y]\n",
    "end"
   ]
  },
  {
   "cell_type": "markdown",
   "id": "fd268a2d-2ff9-4995-bade-1d77ff6e8e73",
   "metadata": {},
   "source": [
    "##### 8.2) Используя написанную вами функцию outer(), создайте матрицы следующей структуры:"
   ]
  },
  {
   "cell_type": "code",
   "execution_count": 153,
   "id": "148d264d-c1b3-4eec-a747-4c6311c705e3",
   "metadata": {},
   "outputs": [
    {
     "name": "stdout",
     "output_type": "stream",
     "text": [
      "\n",
      "Матрица A1:\n",
      "[0, 1, 2, 3, 4]\n",
      "[1, 2, 3, 4, 5]\n",
      "[2, 3, 4, 5, 6]\n",
      "[3, 4, 5, 6, 7]\n",
      "[4, 5, 6, 7, 8]\n",
      "\n",
      "Матрица A2:\n",
      "[0, 0, 0, 0, 0]\n",
      "[1, 1, 1, 1, 1]\n",
      "[2, 4, 8, 16, 32]\n",
      "[3, 9, 27, 81, 243]\n",
      "[4, 16, 64, 256, 1024]\n",
      "\n",
      "Матрица A3:\n",
      "[0, 1, 2, 3, 4]\n",
      "[1, 2, 3, 4, 0]\n",
      "[2, 3, 4, 0, 1]\n",
      "[3, 4, 0, 1, 2]\n",
      "[4, 0, 1, 2, 3]\n",
      "\n",
      "Матрица A4:\n",
      "[0, 1, 2, 3, 4, 5, 6, 7, 8, 9]\n",
      "[1, 2, 3, 4, 5, 6, 7, 8, 9, 0]\n",
      "[2, 3, 4, 5, 6, 7, 8, 9, 0, 1]\n",
      "[3, 4, 5, 6, 7, 8, 9, 0, 1, 2]\n",
      "[4, 5, 6, 7, 8, 9, 0, 1, 2, 3]\n",
      "[5, 6, 7, 8, 9, 0, 1, 2, 3, 4]\n",
      "[6, 7, 8, 9, 0, 1, 2, 3, 4, 5]\n",
      "[7, 8, 9, 0, 1, 2, 3, 4, 5, 6]\n",
      "[8, 9, 0, 1, 2, 3, 4, 5, 6, 7]\n",
      "[9, 0, 1, 2, 3, 4, 5, 6, 7, 8]\n",
      "\n",
      "Матрица A5:\n",
      "[0, 8, 7, 6, 5, 4, 3, 2, 1]\n",
      "[1, 0, 8, 7, 6, 5, 4, 3, 2]\n",
      "[2, 1, 0, 8, 7, 6, 5, 4, 3]\n",
      "[3, 2, 1, 0, 8, 7, 6, 5, 4]\n",
      "[4, 3, 2, 1, 0, 8, 7, 6, 5]\n",
      "[5, 4, 3, 2, 1, 0, 8, 7, 6]\n",
      "[6, 5, 4, 3, 2, 1, 0, 8, 7]\n",
      "[7, 6, 5, 4, 3, 2, 1, 0, 8]\n",
      "[8, 7, 6, 5, 4, 3, 2, 1, 0]\n"
     ]
    }
   ],
   "source": [
    "# Матрица A1: сложение элементов\n",
    "A1 = outer(0:4, 0:4, +)\n",
    "\n",
    "# Матрица A2: возведение в степень (если 0^0, принимаем как 0)\n",
    "function safe_pow(x, y)\n",
    "    x == 0 && y == 0 ? 0 : x^y\n",
    "end\n",
    "\n",
    "# Матрица A2: с пропуском первого элемента в каждой строке\n",
    "A2 = [j == 1 ? i : safe_pow(i, j) for i in 0:4, j in 1:5]\n",
    "\n",
    "# Матрица A3: циклический сдвиг по модулю 5\n",
    "A3 = outer(0:4, 0:4, (x, y) -> mod(x + y, 5))\n",
    "\n",
    "# Матрица A4: циклический сдвиг по модулю 10\n",
    "A4 = outer(0:9, 0:9, (x, y) -> mod(x + y, 10))\n",
    "\n",
    "# Матрица A5: разница по модулю 9\n",
    "A5 = outer(0:8, 0:8, (x, y) -> mod(x - y, 9))\n",
    "\n",
    "# Функция для красивого вывода матриц\n",
    "function print_matrix(name, mat)\n",
    "    println(\"\\nМатрица $name:\")\n",
    "    for row in eachrow(mat)\n",
    "        println(row)\n",
    "    end\n",
    "end\n",
    "\n",
    "# Печатаем все матрицы\n",
    "print_matrix(\"A1\", A1)\n",
    "print_matrix(\"A2\", A2)\n",
    "print_matrix(\"A3\", A3)\n",
    "print_matrix(\"A4\", A4)\n",
    "print_matrix(\"A5\", A5)\n"
   ]
  },
  {
   "cell_type": "markdown",
   "id": "e7b5d26e-852f-4c0e-9de0-0751eb561d0d",
   "metadata": {},
   "source": [
    "#### №9. Решите следующую систему линейных уравнений с 5 неизвестными:"
   ]
  },
  {
   "cell_type": "code",
   "execution_count": 156,
   "id": "e200aaca-7bf6-4f6b-b752-015150492bb0",
   "metadata": {},
   "outputs": [
    {
     "name": "stdout",
     "output_type": "stream",
     "text": [
      "[-3.916666666666667, 3.0000000000000013, 5.0, -9.500000000000002, 5.583333333333335]\n"
     ]
    }
   ],
   "source": [
    "A = [1 2 3 4 5;\n",
    "     2 1 2 3 4;\n",
    "     3 2 1 2 3;\n",
    "     4 3 2 1 2;\n",
    "     5 4 3 2 1]\n",
    "b = [7, -1, -3, 5, -6]\n",
    "\n",
    "x = A \\ b  # Решение системы\n",
    "println(x)"
   ]
  },
  {
   "cell_type": "markdown",
   "id": "197f9a90-e705-46cf-b88f-e6e951bd8493",
   "metadata": {},
   "source": [
    "#### #10. Создайте матрицу 𝑀 размерности 6 × 10, элементами которой являются целые числа, выбранные случайным образом с повторениями из совокупности 1, 2, … , 10:"
   ]
  },
  {
   "cell_type": "code",
   "execution_count": 159,
   "id": "2d630f3f-a1b6-4faa-be23-46323d0e409f",
   "metadata": {},
   "outputs": [
    {
     "name": "stdout",
     "output_type": "stream",
     "text": [
      "[3, 10, 2, 10, 8, 6, 5, 3, 10, 5]\n",
      "[4, 2, 10, 2, 2, 1, 10, 5, 9, 1]\n",
      "[9, 2, 10, 1, 10, 5, 4, 4, 1, 10]\n",
      "[2, 9, 4, 10, 1, 10, 10, 4, 1, 7]\n",
      "[10, 4, 7, 3, 2, 9, 8, 4, 4, 3]\n",
      "[8, 1, 8, 7, 8, 1, 1, 1, 1, 4]\n",
      "\n"
     ]
    }
   ],
   "source": [
    "function print_matrix(name, mat)\n",
    "    println(\"\\nМатрица $name:\")\n",
    "    for row in eachrow(mat)\n",
    "        println(row)\n",
    "    end\n",
    "end\n",
    "\n",
    "M = rand(1:10, 6, 10)\n",
    "print_matrix(M)"
   ]
  },
  {
   "cell_type": "markdown",
   "id": "5760465c-8b8f-47e3-967b-ca51cc2d174f",
   "metadata": {},
   "source": [
    "##### 10.1) Найдите число элементов в каждой строке матрицы 𝑀, которые больше числа 𝑁 (например, 𝑁 = 4):"
   ]
  },
  {
   "cell_type": "code",
   "execution_count": 162,
   "id": "7395db41-ffab-4a18-ac50-d8329094e14b",
   "metadata": {},
   "outputs": [
    {
     "name": "stdout",
     "output_type": "stream",
     "text": [
      "[7; 4; 5; 5; 4; 4;;]\n"
     ]
    }
   ],
   "source": [
    "N = 4\n",
    "greater_than_N = sum(M .> N, dims=2)\n",
    "println(greater_than_N)"
   ]
  },
  {
   "cell_type": "markdown",
   "id": "3687540b-6bf5-4003-af9c-a56238cf0d38",
   "metadata": {},
   "source": [
    "##### 10.2) Определите, в каких строках матрицы 𝑀 число 𝑀 (например,𝑀 = 7) встречается ровно 2 раза:\n"
   ]
  },
  {
   "cell_type": "code",
   "execution_count": 165,
   "id": "1e51d180-a621-44d1-9e53-9a7b45ef6311",
   "metadata": {},
   "outputs": [
    {
     "name": "stdout",
     "output_type": "stream",
     "text": [
      "Int64[]\n"
     ]
    }
   ],
   "source": [
    "M_value = 7\n",
    "rows_with_M_twice = findall(x -> count(==(M_value), x) == 2, eachrow(M))\n",
    "println(rows_with_M_twice)"
   ]
  },
  {
   "cell_type": "markdown",
   "id": "7c02b0fd-c2e9-4303-a534-0bb8ae40fa29",
   "metadata": {},
   "source": [
    "##### 10.3) Определите все пары столбцов матрицы 𝑀, сумма элементов которых больше 𝐾 (например, 𝐾 = 75):"
   ]
  },
  {
   "cell_type": "code",
   "execution_count": 168,
   "id": "3dddd79e-eaf3-4629-8346-67ebdcdc0dcd",
   "metadata": {},
   "outputs": [
    {
     "name": "stdout",
     "output_type": "stream",
     "text": [
      "Any[(1, 3), (3, 7)]\n"
     ]
    }
   ],
   "source": [
    "K = 75\n",
    "col_pairs = []\n",
    "for i in 1:size(M, 2)-1\n",
    "    for j in i+1:size(M, 2)\n",
    "        if sum(M[:,i] .+ M[:,j]) > K\n",
    "            push!(col_pairs, (i, j))\n",
    "        end\n",
    "    end\n",
    "end\n",
    "println(col_pairs)"
   ]
  },
  {
   "cell_type": "markdown",
   "id": "ff17f934-409d-456e-8f4d-c78f1e283083",
   "metadata": {},
   "source": [
    "#### №11. Вычислите:"
   ]
  },
  {
   "cell_type": "code",
   "execution_count": 171,
   "id": "4f6ce0c5-bdd4-46fa-a736-8adf4368b58b",
   "metadata": {},
   "outputs": [
    {
     "name": "stdout",
     "output_type": "stream",
     "text": [
      "21679980\n"
     ]
    }
   ],
   "source": [
    "sum_1 = sum(i^4 * (3 + j) for i in 1:20 for j in 1:5)\n",
    "println(sum_1)"
   ]
  },
  {
   "cell_type": "code",
   "execution_count": 173,
   "id": "8f948c24-28c4-40fa-b6e9-bee0780a1500",
   "metadata": {},
   "outputs": [
    {
     "name": "stdout",
     "output_type": "stream",
     "text": [
      "195839490\n"
     ]
    }
   ],
   "source": [
    "sum_2 = sum(i^4 * (3 + i * j) for i in 1:20 for j in 1:5)\n",
    "println(sum_2)"
   ]
  },
  {
   "cell_type": "code",
   "execution_count": null,
   "id": "3a24b21e-ac6e-4f2d-bb38-0c10cbb6b978",
   "metadata": {},
   "outputs": [],
   "source": []
  },
  {
   "cell_type": "code",
   "execution_count": null,
   "id": "604d5814-6934-4a38-b27d-fb452c293d63",
   "metadata": {},
   "outputs": [],
   "source": []
  },
  {
   "cell_type": "code",
   "execution_count": null,
   "id": "eee5e7cc-6988-4838-83e7-37e1dc5f8b33",
   "metadata": {},
   "outputs": [],
   "source": []
  },
  {
   "cell_type": "markdown",
   "id": "26351fb8-947d-425d-94c0-74193104ad28",
   "metadata": {},
   "source": [
    "### – выведите на экран целые числа от 1 до 100 и напечатайте их квадраты;"
   ]
  },
  {
   "cell_type": "code",
   "execution_count": 196,
   "id": "b6fcece3-8b99-42aa-9e5e-f3fc43406e07",
   "metadata": {},
   "outputs": [
    {
     "name": "stdout",
     "output_type": "stream",
     "text": [
      "1\n",
      "4\n",
      "9\n",
      "16\n",
      "25\n",
      "36\n",
      "49\n",
      "64\n",
      "81\n",
      "100\n",
      "121\n",
      "144\n",
      "169\n",
      "196\n",
      "225\n",
      "256\n",
      "289\n",
      "324\n",
      "361\n",
      "400\n",
      "441\n",
      "484\n",
      "529\n",
      "576\n",
      "625\n",
      "676\n",
      "729\n",
      "784\n",
      "841\n",
      "900\n",
      "961\n",
      "1024\n",
      "1089\n",
      "1156\n",
      "1225\n",
      "1296\n",
      "1369\n",
      "1444\n",
      "1521\n",
      "1600\n",
      "1681\n",
      "1764\n",
      "1849\n",
      "1936\n",
      "2025\n",
      "2116\n",
      "2209\n",
      "2304\n",
      "2401\n",
      "2500\n",
      "2601\n",
      "2704\n",
      "2809\n",
      "2916\n",
      "3025\n",
      "3136\n",
      "3249\n",
      "3364\n",
      "3481\n",
      "3600\n",
      "3721\n",
      "3844\n",
      "3969\n",
      "4096\n",
      "4225\n",
      "4356\n",
      "4489\n",
      "4624\n",
      "4761\n",
      "4900\n",
      "5041\n",
      "5184\n",
      "5329\n",
      "5476\n",
      "5625\n",
      "5776\n",
      "5929\n",
      "6084\n",
      "6241\n",
      "6400\n",
      "6561\n",
      "6724\n",
      "6889\n",
      "7056\n",
      "7225\n",
      "7396\n",
      "7569\n",
      "7744\n",
      "7921\n",
      "8100\n",
      "8281\n",
      "8464\n",
      "8649\n",
      "8836\n",
      "9025\n",
      "9216\n",
      "9409\n",
      "9604\n",
      "9801\n",
      "10000\n"
     ]
    }
   ],
   "source": [
    "n = 1\n",
    "while n <= 100\n",
    "    println(\"$(n^2)\")\n",
    "    n += 1\n",
    "end"
   ]
  },
  {
   "cell_type": "code",
   "execution_count": 200,
   "id": "cc36c6a5-6b9c-4760-8631-6c6ac8b2300d",
   "metadata": {},
   "outputs": [
    {
     "name": "stdout",
     "output_type": "stream",
     "text": [
      "36\n",
      "49\n",
      "64\n",
      "81\n",
      "100\n",
      "121\n",
      "144\n",
      "169\n",
      "196\n",
      "225\n",
      "256\n",
      "289\n",
      "324\n",
      "361\n",
      "400\n",
      "441\n",
      "484\n",
      "529\n",
      "576\n",
      "625\n",
      "676\n",
      "729\n",
      "784\n",
      "841\n",
      "900\n",
      "961\n",
      "1024\n",
      "1089\n",
      "1156\n",
      "1225\n",
      "1296\n",
      "1369\n",
      "1444\n",
      "1521\n",
      "1600\n",
      "1681\n",
      "1764\n",
      "1849\n",
      "1936\n",
      "2025\n",
      "2116\n",
      "2209\n",
      "2304\n",
      "2401\n",
      "2500\n",
      "2601\n",
      "2704\n",
      "2809\n",
      "2916\n",
      "3025\n",
      "3136\n",
      "3249\n",
      "3364\n",
      "3481\n",
      "3600\n",
      "3721\n",
      "3844\n",
      "3969\n",
      "4096\n",
      "4225\n",
      "4356\n",
      "4489\n",
      "4624\n",
      "4761\n",
      "4900\n",
      "5041\n",
      "5184\n",
      "5329\n",
      "5476\n",
      "5625\n",
      "5776\n",
      "5929\n",
      "6084\n",
      "6241\n",
      "6400\n",
      "6561\n",
      "6724\n",
      "6889\n",
      "7056\n",
      "7225\n",
      "7396\n",
      "7569\n",
      "7744\n",
      "7921\n",
      "8100\n",
      "8281\n",
      "8464\n",
      "8649\n",
      "8836\n",
      "9025\n",
      "9216\n",
      "9409\n",
      "9604\n",
      "9801\n",
      "10000\n"
     ]
    }
   ],
   "source": [
    "for n in i:100\n",
    "    println(\"$(n^2)\")\n",
    "end"
   ]
  },
  {
   "cell_type": "markdown",
   "id": "acac8517-5bb6-4695-b35f-752ed5d0b8ae",
   "metadata": {},
   "source": [
    "### – создайте словарь squares, который будет содержать целые числа в качестве ключей и квадраты в качестве их пар-значений;"
   ]
  },
  {
   "cell_type": "code",
   "execution_count": 203,
   "id": "1b486b39-3288-4c1e-bd9d-2d96410a919a",
   "metadata": {},
   "outputs": [
    {
     "name": "stdout",
     "output_type": "stream",
     "text": [
      "Dict{Any, Any}(5 => 25, 56 => 3136, 35 => 1225, 55 => 3025, 60 => 3600, 30 => 900, 32 => 1024, 6 => 36, 67 => 4489, 45 => 2025, 73 => 5329, 64 => 4096, 90 => 8100, 4 => 16, 13 => 169, 54 => 2916, 63 => 3969, 86 => 7396, 91 => 8281, 62 => 3844, 58 => 3364, 52 => 2704, 12 => 144, 28 => 784, 75 => 5625, 23 => 529, 92 => 8464, 41 => 1681, 43 => 1849, 11 => 121, 36 => 1296, 68 => 4624, 69 => 4761, 98 => 9604, 82 => 6724, 85 => 7225, 39 => 1521, 84 => 7056, 77 => 5929, 7 => 49, 25 => 625, 95 => 9025, 71 => 5041, 66 => 4356, 76 => 5776, 34 => 1156, 50 => 2500, 59 => 3481, 93 => 8649, 2 => 4, 10 => 100, 18 => 324, 26 => 676, 27 => 729, 42 => 1764, 87 => 7569, 100 => 10000, 79 => 6241, 16 => 256, 20 => 400, 81 => 6561, 19 => 361, 49 => 2401, 44 => 1936, 9 => 81, 31 => 961, 74 => 5476, 61 => 3721, 29 => 841, 94 => 8836, 46 => 2116, 57 => 3249, 70 => 4900, 21 => 441, 38 => 1444, 88 => 7744, 78 => 6084, 72 => 5184, 24 => 576, 8 => 64, 17 => 289, 37 => 1369, 1 => 1, 53 => 2809, 22 => 484, 47 => 2209, 83 => 6889, 99 => 9801, 89 => 7921, 14 => 196, 3 => 9, 80 => 6400, 96 => 9216, 51 => 2601, 33 => 1089, 40 => 1600, 48 => 2304, 15 => 225, 65 => 4225, 97 => 9409)\n"
     ]
    }
   ],
   "source": [
    "squares = Dict()\n",
    "for n in 1:100\n",
    "    squares[n] = n^2\n",
    "end \n",
    "println(squares)"
   ]
  },
  {
   "cell_type": "markdown",
   "id": "af2a1dd3-7ed7-43f1-a1dc-d789d2bbc2e5",
   "metadata": {},
   "source": [
    "### – создайте массив squares_arr, содержащий квадраты всех чисел от 1 до 100."
   ]
  },
  {
   "cell_type": "code",
   "execution_count": 206,
   "id": "f39270cd-49e5-4ce1-928b-387e9ffaf8bb",
   "metadata": {},
   "outputs": [
    {
     "name": "stdout",
     "output_type": "stream",
     "text": [
      "[1, 4, 9, 16, 25, 36, 49, 64, 81, 100, 121, 144, 169, 196, 225, 256, 289, 324, 361, 400, 441, 484, 529, 576, 625, 676, 729, 784, 841, 900, 961, 1024, 1089, 1156, 1225, 1296, 1369, 1444, 1521, 1600, 1681, 1764, 1849, 1936, 2025, 2116, 2209, 2304, 2401, 2500, 2601, 2704, 2809, 2916, 3025, 3136, 3249, 3364, 3481, 3600, 3721, 3844, 3969, 4096, 4225, 4356, 4489, 4624, 4761, 4900, 5041, 5184, 5329, 5476, 5625, 5776, 5929, 6084, 6241, 6400, 6561, 6724, 6889, 7056, 7225, 7396, 7569, 7744, 7921, 8100, 8281, 8464, 8649, 8836, 9025, 9216, 9409, 9604, 9801, 10000]\n"
     ]
    }
   ],
   "source": [
    "squares_arr = [n^2 for n in 1:100]\n",
    "println(squares_arr)"
   ]
  },
  {
   "cell_type": "markdown",
   "id": "a68404d7-c4e8-46ee-b908-1808bf772e05",
   "metadata": {},
   "source": [
    "## 2. Напишите условный оператор, который печатает число, если число чётное, и строку «нечётное», если число нечётное. Перепишите код, используя тернарный оператор."
   ]
  },
  {
   "cell_type": "code",
   "execution_count": 217,
   "id": "96a59b6b-cf50-4092-8fef-cbe87fe5787c",
   "metadata": {},
   "outputs": [
    {
     "name": "stdout",
     "output_type": "stream",
     "text": [
      "100\n"
     ]
    }
   ],
   "source": [
    "n = 100\n",
    "if n % 2 == 0\n",
    "    println(n)\n",
    "else \n",
    "    println(\"нечетное\")\n",
    "end"
   ]
  },
  {
   "cell_type": "code",
   "execution_count": 219,
   "id": "5827ed14-f3ce-40f7-bff1-27c910dfe937",
   "metadata": {},
   "outputs": [
    {
     "name": "stdout",
     "output_type": "stream",
     "text": [
      "100\n"
     ]
    }
   ],
   "source": [
    "println(n % 2 == 0 ? n : \"нечетное\")"
   ]
  },
  {
   "cell_type": "markdown",
   "id": "03f831c0-6579-4a14-8654-f33d067d237b",
   "metadata": {},
   "source": [
    "## 3. Напишите функцию add_one, которая добавляет 1 к своему входу."
   ]
  },
  {
   "cell_type": "code",
   "execution_count": 222,
   "id": "46655a41-a7cd-4818-8854-14153dc2d441",
   "metadata": {},
   "outputs": [
    {
     "data": {
      "text/plain": [
       "10"
      ]
     },
     "execution_count": 222,
     "metadata": {},
     "output_type": "execute_result"
    }
   ],
   "source": [
    "function add_one(i)\n",
    "    return i + 1\n",
    "end\n",
    "add_one(9)"
   ]
  },
  {
   "cell_type": "markdown",
   "id": "03cdd140-3254-40bc-b409-78cf61cbe6aa",
   "metadata": {},
   "source": [
    "## 4. Используйте map() или broadcast() для задания матрицы 𝐴, каждый элемент которой увеличивается на единицу по сравнению с предыдущим."
   ]
  },
  {
   "cell_type": "code",
   "execution_count": 231,
   "id": "50e6e0b2-d3d9-4b64-ad75-a254426dfd86",
   "metadata": {},
   "outputs": [
    {
     "data": {
      "text/plain": [
       "4×4 reshape(::UnitRange{Int64}, 4, 4) with eltype Int64:\n",
       " 1  5   9  13\n",
       " 2  6  10  14\n",
       " 3  7  11  15\n",
       " 4  8  12  16"
      ]
     },
     "execution_count": 231,
     "metadata": {},
     "output_type": "execute_result"
    }
   ],
   "source": [
    "A = reshape(1:16, 4, 4)\n",
    "A"
   ]
  },
  {
   "cell_type": "code",
   "execution_count": 233,
   "id": "72d06efa-61b9-4d16-9930-524d6f0bb6ed",
   "metadata": {},
   "outputs": [
    {
     "data": {
      "text/plain": [
       "4×4 Matrix{Int64}:\n",
       " 2  6  10  14\n",
       " 3  7  11  15\n",
       " 4  8  12  16\n",
       " 5  9  13  17"
      ]
     },
     "execution_count": 233,
     "metadata": {},
     "output_type": "execute_result"
    }
   ],
   "source": [
    "B = map(x -> x + 1, A)\n",
    "B"
   ]
  },
  {
   "cell_type": "code",
   "execution_count": 235,
   "id": "9639ade3-15c4-4ff7-abd3-5e7d2a6d83c7",
   "metadata": {},
   "outputs": [
    {
     "data": {
      "text/plain": [
       "4×4 Matrix{Int64}:\n",
       " 3   7  11  15\n",
       " 4   8  12  16\n",
       " 5   9  13  17\n",
       " 6  10  14  18"
      ]
     },
     "execution_count": 235,
     "metadata": {},
     "output_type": "execute_result"
    }
   ],
   "source": [
    "C = broadcast(x -> x + 1, B)\n",
    "C"
   ]
  },
  {
   "cell_type": "markdown",
   "id": "e66712fa-e564-4c34-8985-7db5d25aea8b",
   "metadata": {},
   "source": [
    "## 5. Задайте матрицу 𝐴 следующего вида:"
   ]
  },
  {
   "cell_type": "code",
   "execution_count": 429,
   "id": "778300e4-2b75-426b-b366-870465531073",
   "metadata": {},
   "outputs": [
    {
     "data": {
      "text/plain": [
       "3×3 Matrix{Int64}:\n",
       "  1   1   3\n",
       "  5   2   6\n",
       " -2  -1  -3"
      ]
     },
     "execution_count": 429,
     "metadata": {},
     "output_type": "execute_result"
    }
   ],
   "source": [
    "A = [1 1 3; 5 2 6; -2 -1 -3]"
   ]
  },
  {
   "cell_type": "code",
   "execution_count": 431,
   "id": "d1b3b41c-0cc3-4f91-80d9-6273ca53c297",
   "metadata": {},
   "outputs": [
    {
     "data": {
      "text/plain": [
       "3×3 Matrix{Int64}:\n",
       "   1   1   27\n",
       " 125   8  216\n",
       "  -8  -1  -27"
      ]
     },
     "execution_count": 431,
     "metadata": {},
     "output_type": "execute_result"
    }
   ],
   "source": [
    "# найдем матрицу в кубе\n",
    "B = map(x -> x^3, A)\n",
    "B"
   ]
  },
  {
   "cell_type": "code",
   "execution_count": 433,
   "id": "62652d9b-78d8-412d-9412-84c168efecbe",
   "metadata": {},
   "outputs": [
    {
     "data": {
      "text/plain": [
       "3×3 Matrix{Int64}:\n",
       "  1   1   4\n",
       "  5   2   8\n",
       " -2  -1  -4"
      ]
     },
     "execution_count": 433,
     "metadata": {},
     "output_type": "execute_result"
    }
   ],
   "source": [
    "A[:, 3] = A[:, 2] + A[:, 3]\n",
    "A"
   ]
  },
  {
   "cell_type": "markdown",
   "id": "8840f0b7-2c55-4a20-af92-840d70b89559",
   "metadata": {},
   "source": [
    "## 6. Создайте матрицу 𝐵 с элементаи 𝐵𝑖1 = 10, 𝐵𝑖2 = −10, 𝐵𝑖3 = 10, 𝑖 = 1, 2, … , 15. Вычислите матрицу 𝐶 = 𝐵𝑇𝐵."
   ]
  },
  {
   "cell_type": "code",
   "execution_count": 253,
   "id": "86d2b354-0587-4da3-a4d0-0d4232025cd8",
   "metadata": {},
   "outputs": [
    {
     "data": {
      "text/plain": [
       "15×3 Matrix{Int64}:\n",
       " 10  -10  10\n",
       " 10  -10  10\n",
       " 10  -10  10\n",
       " 10  -10  10\n",
       " 10  -10  10\n",
       " 10  -10  10\n",
       " 10  -10  10\n",
       " 10  -10  10\n",
       " 10  -10  10\n",
       " 10  -10  10\n",
       " 10  -10  10\n",
       " 10  -10  10\n",
       " 10  -10  10\n",
       " 10  -10  10\n",
       " 10  -10  10"
      ]
     },
     "execution_count": 253,
     "metadata": {},
     "output_type": "execute_result"
    }
   ],
   "source": [
    "B = repeat([10 -10 10], 15, 1)\n",
    "B"
   ]
  },
  {
   "cell_type": "code",
   "execution_count": 255,
   "id": "1006e32c-d80b-406f-b050-f855bcd61b76",
   "metadata": {},
   "outputs": [
    {
     "data": {
      "text/plain": [
       "3×3 Matrix{Int64}:\n",
       "  1500  -1500   1500\n",
       " -1500   1500  -1500\n",
       "  1500  -1500   1500"
      ]
     },
     "execution_count": 255,
     "metadata": {},
     "output_type": "execute_result"
    }
   ],
   "source": [
    "C = B' * B"
   ]
  },
  {
   "cell_type": "markdown",
   "id": "4da1fa0f-bcd7-4ffa-905d-0ea5c7c68e98",
   "metadata": {},
   "source": [
    "## 7. Создайте матрицу 𝑍 размерности 6 × 6, все элементы которой равны нулю, и матрицу 𝐸, все элементы которой равны 1. Используя цикл while или for и закономерности расположения элементов, создайте следующие матрицы размерности 6 × 6:"
   ]
  },
  {
   "cell_type": "code",
   "execution_count": 441,
   "id": "a0160dab-52b4-4abd-a082-270a7cafa708",
   "metadata": {
    "scrolled": true
   },
   "outputs": [
    {
     "data": {
      "text/plain": [
       "6×6 Matrix{Int64}:\n",
       " 0  0  0  0  0  0\n",
       " 0  0  0  0  0  0\n",
       " 0  0  0  0  0  0\n",
       " 0  0  0  0  0  0\n",
       " 0  0  0  0  0  0\n",
       " 0  0  0  0  0  0"
      ]
     },
     "execution_count": 441,
     "metadata": {},
     "output_type": "execute_result"
    }
   ],
   "source": [
    "Z = fill(0, 6, 6)"
   ]
  },
  {
   "cell_type": "code",
   "execution_count": 443,
   "id": "71962e89-31a7-4c71-96e2-5bca865fe1dd",
   "metadata": {},
   "outputs": [
    {
     "data": {
      "text/plain": [
       "6×6 Matrix{Int64}:\n",
       " 0  1  0  0  0  0\n",
       " 1  0  1  0  0  0\n",
       " 0  1  0  1  0  0\n",
       " 0  0  1  0  1  0\n",
       " 0  0  0  1  0  1\n",
       " 0  0  0  0  1  0"
      ]
     },
     "execution_count": 443,
     "metadata": {},
     "output_type": "execute_result"
    }
   ],
   "source": [
    "Z1 = fill(0, 6, 6)\n",
    "for i in 1:6\n",
    "    for j in 1:6\n",
    "        if abs(i - j) == 1\n",
    "            Z1[i, j] = 1\n",
    "        end\n",
    "    end\n",
    "end\n",
    "Z1"
   ]
  },
  {
   "cell_type": "code",
   "execution_count": 445,
   "id": "75536e00-3cb7-4080-9c6f-1b6938215954",
   "metadata": {},
   "outputs": [
    {
     "data": {
      "text/plain": [
       "6×6 Matrix{Int64}:\n",
       " 1  0  1  0  1  0\n",
       " 0  1  0  1  0  1\n",
       " 1  0  1  0  1  0\n",
       " 0  1  0  1  0  1\n",
       " 1  0  1  0  1  0\n",
       " 0  1  0  1  0  1"
      ]
     },
     "execution_count": 445,
     "metadata": {},
     "output_type": "execute_result"
    }
   ],
   "source": [
    "Z4 = copy(Z)  \n",
    "for i in 1:6\n",
    "    for j in 1:6\n",
    "        if (i + j) % 2 == 0  \n",
    "            Z4[i, j] = 1\n",
    "        end\n",
    "    end\n",
    "end\n",
    "Z4"
   ]
  },
  {
   "cell_type": "markdown",
   "id": "85b655ca-ebc3-46a4-a08d-517840c318ce",
   "metadata": {},
   "source": [
    "## 8. В языке R есть функция outer(). Фактически, это матричное умножение с возможностью изменить применяемую операцию (например, заменить произведение на сложение или возведение в степень)."
   ]
  },
  {
   "cell_type": "markdown",
   "id": "734b9a1c-9f2b-4fb6-8784-b9bdcbbb2d64",
   "metadata": {},
   "source": [
    "### – Напишите свою функцию, аналогичную функции outer() языка R. Функция должна иметь следующий интерфейс: outer(x,y,operation). Таким образом, функция вида outer(A,B,*) должна быть эквивалентна произведению матриц 𝐴 и 𝐵 размерностями 𝐿 × 𝑀 и 𝑀 × 𝑁 соответственно, где элементы результирующей матрицы 𝐶 имеют вид 𝐶𝑖𝑗 = 𝑀 ∑ 𝑘=1 𝐴𝑖𝑘𝐵𝑘𝑗 "
   ]
  },
  {
   "cell_type": "code",
   "execution_count": 325,
   "id": "eff60ccd-434b-43f3-8f0d-a3d8a41accaa",
   "metadata": {},
   "outputs": [
    {
     "data": {
      "text/plain": [
       "outer (generic function with 1 method)"
      ]
     },
     "execution_count": 325,
     "metadata": {},
     "output_type": "execute_result"
    }
   ],
   "source": [
    "function outer(x, y, operation)\n",
    "    return [operation(xi, yj) for xi in x, yj in y]\n",
    "end"
   ]
  },
  {
   "cell_type": "code",
   "execution_count": 361,
   "id": "cdea03cd-e1bf-4139-a4a1-5399d15e021b",
   "metadata": {},
   "outputs": [
    {
     "data": {
      "text/plain": [
       "5×5 Matrix{Int64}:\n",
       " 0  1  2  3  4\n",
       " 1  2  3  4  5\n",
       " 2  3  4  5  6\n",
       " 3  4  5  6  7\n",
       " 4  5  6  7  8"
      ]
     },
     "execution_count": 361,
     "metadata": {},
     "output_type": "execute_result"
    }
   ],
   "source": [
    "A1 = outer(0:4, 0:4, +)"
   ]
  },
  {
   "cell_type": "code",
   "execution_count": 363,
   "id": "cbf28039-70d9-4700-9e25-6343ba673d28",
   "metadata": {},
   "outputs": [
    {
     "data": {
      "text/plain": [
       "5×5 Matrix{Int64}:\n",
       " 0  1  2  3  4\n",
       " 1  2  3  4  0\n",
       " 2  3  4  0  1\n",
       " 3  4  0  1  2\n",
       " 4  0  1  2  3"
      ]
     },
     "execution_count": 363,
     "metadata": {},
     "output_type": "execute_result"
    }
   ],
   "source": [
    "A3 = outer(0:4, 0:4, (x, y) -> mod(x + y, 5))"
   ]
  },
  {
   "cell_type": "code",
   "execution_count": 365,
   "id": "4f5e5d91-464d-459e-b7c6-6d7bff028ee5",
   "metadata": {},
   "outputs": [
    {
     "data": {
      "text/plain": [
       "10×10 Matrix{Int64}:\n",
       " 0  1  2  3  4  5  6  7  8  9\n",
       " 1  2  3  4  5  6  7  8  9  0\n",
       " 2  3  4  5  6  7  8  9  0  1\n",
       " 3  4  5  6  7  8  9  0  1  2\n",
       " 4  5  6  7  8  9  0  1  2  3\n",
       " 5  6  7  8  9  0  1  2  3  4\n",
       " 6  7  8  9  0  1  2  3  4  5\n",
       " 7  8  9  0  1  2  3  4  5  6\n",
       " 8  9  0  1  2  3  4  5  6  7\n",
       " 9  0  1  2  3  4  5  6  7  8"
      ]
     },
     "execution_count": 365,
     "metadata": {},
     "output_type": "execute_result"
    }
   ],
   "source": [
    "A4 = outer(0:9, 0:9, (x, y) -> mod(x + y, 10))"
   ]
  },
  {
   "cell_type": "code",
   "execution_count": 367,
   "id": "89002062-42f2-4e90-9886-8c31941b8a50",
   "metadata": {},
   "outputs": [
    {
     "data": {
      "text/plain": [
       "9×9 Matrix{Int64}:\n",
       " 0  8  7  6  5  4  3  2  1\n",
       " 1  0  8  7  6  5  4  3  2\n",
       " 2  1  0  8  7  6  5  4  3\n",
       " 3  2  1  0  8  7  6  5  4\n",
       " 4  3  2  1  0  8  7  6  5\n",
       " 5  4  3  2  1  0  8  7  6\n",
       " 6  5  4  3  2  1  0  8  7\n",
       " 7  6  5  4  3  2  1  0  8\n",
       " 8  7  6  5  4  3  2  1  0"
      ]
     },
     "execution_count": 367,
     "metadata": {},
     "output_type": "execute_result"
    }
   ],
   "source": [
    "A5 = outer(0:8, 0:8, (x, y) -> mod(x - y, 9))"
   ]
  },
  {
   "cell_type": "markdown",
   "id": "29652275-bba8-4f14-acd4-d382d7e3e4b5",
   "metadata": {},
   "source": [
    "## 9. Решите следующую систему линейных уравнений с 5 неизвестными:"
   ]
  },
  {
   "cell_type": "code",
   "execution_count": 370,
   "id": "c561b83b-30eb-4349-bbec-b019cc37a847",
   "metadata": {},
   "outputs": [
    {
     "data": {
      "text/plain": [
       "5-element Vector{Float64}:\n",
       " -2.0000000000000036\n",
       "  3.0000000000000058\n",
       "  4.999999999999998\n",
       "  1.9999999999999991\n",
       " -3.999999999999999"
      ]
     },
     "execution_count": 370,
     "metadata": {},
     "output_type": "execute_result"
    }
   ],
   "source": [
    "A = [1 2 3 4 5; 2 1 2 3 4; 3 2 1 2 3; 4 3 2 1 2; 5 4 3 2 1]\n",
    "B = [7, -1, -3, 5, 17]\n",
    "C = A \\ B"
   ]
  },
  {
   "cell_type": "markdown",
   "id": "08156cb5-5de2-418b-8ba3-ae307009149b",
   "metadata": {},
   "source": [
    "## 10. Создайте матрицу 𝑀 размерности 6 × 10, элементами которой являются целые числа, выбранные случайным образом с повторениями из совокупности 1, 2, … , 10."
   ]
  },
  {
   "cell_type": "code",
   "execution_count": 391,
   "id": "81edff89-9363-45c4-b8b3-a26039aa4e2f",
   "metadata": {},
   "outputs": [
    {
     "data": {
      "text/plain": [
       "6×10 Matrix{Int64}:\n",
       " 2  5  6  5  10  2  3  10   7   5\n",
       " 5  2  9  5   4  7  7   2  10   5\n",
       " 4  4  1  6   8  7  2   9   6   1\n",
       " 5  2  5  2   2  6  1  10   3   9\n",
       " 1  4  6  6   8  2  4   7   3   5\n",
       " 6  3  1  4   8  1  3   5   3  10"
      ]
     },
     "execution_count": 391,
     "metadata": {},
     "output_type": "execute_result"
    }
   ],
   "source": [
    "M = rand(1:10, 6, 10)"
   ]
  },
  {
   "cell_type": "markdown",
   "id": "5e6b9d5a-1296-4b44-b479-9bb3169411a0",
   "metadata": {},
   "source": [
    "### – Найдите число элементов в каждой строке матрицы 𝑀, которые больше числа 𝑁 (например, 𝑁 = 4)"
   ]
  },
  {
   "cell_type": "code",
   "execution_count": 394,
   "id": "4cebdd17-0fa1-47e2-a26b-05e40065e219",
   "metadata": {},
   "outputs": [
    {
     "data": {
      "text/plain": [
       "6×1 Matrix{Int64}:\n",
       " 7\n",
       " 7\n",
       " 5\n",
       " 5\n",
       " 5\n",
       " 4"
      ]
     },
     "execution_count": 394,
     "metadata": {},
     "output_type": "execute_result"
    }
   ],
   "source": [
    "N = 4\n",
    "A = sum(M .> N, dims = 2)"
   ]
  },
  {
   "cell_type": "markdown",
   "id": "220071d6-88c2-4321-bfc6-3001bc38238a",
   "metadata": {},
   "source": [
    "### – Определите, в каких строках матрицы𝑀число𝑀(например,𝑀 = 7) встречается pовно 2 раза?"
   ]
  },
  {
   "cell_type": "code",
   "execution_count": 397,
   "id": "529525b8-70da-4de5-aa63-f6e7253d9938",
   "metadata": {},
   "outputs": [
    {
     "data": {
      "text/plain": [
       "1-element Vector{Int64}:\n",
       " 2"
      ]
     },
     "execution_count": 397,
     "metadata": {},
     "output_type": "execute_result"
    }
   ],
   "source": [
    "M_var = 7\n",
    "B = findall(x -> count(==(M_var), x) == 2, eachrow(M))"
   ]
  },
  {
   "cell_type": "markdown",
   "id": "7d439615-d012-4ec1-ba92-61fb32aaca22",
   "metadata": {},
   "source": [
    "### Определите все пары столбцов матрицы 𝑀, сумма элементов которых больше 𝐾 (например, 𝐾 = 75)."
   ]
  },
  {
   "cell_type": "code",
   "execution_count": 405,
   "id": "f9203cf1-8736-445e-9b5f-7f8fbcd2c6f4",
   "metadata": {},
   "outputs": [
    {
     "name": "stdout",
     "output_type": "stream",
     "text": [
      "Any[(5, 8), (8, 10)]\n"
     ]
    }
   ],
   "source": [
    "K = 75\n",
    "pairs = []\n",
    "for i in 1:size(M, 2)-1\n",
    "    for j in i+1:size(M, 2)\n",
    "        if sum(M[:,i] .+ M[:,j]) > K\n",
    "            push!(pairs, (i, j))\n",
    "        end\n",
    "    end\n",
    "end\n",
    "println(pairs)"
   ]
  },
  {
   "cell_type": "markdown",
   "id": "9a4cf014-db28-4d7f-aa81-edc6aed72b44",
   "metadata": {},
   "source": [
    "## 11. Вычислите:"
   ]
  },
  {
   "cell_type": "code",
   "execution_count": 408,
   "id": "307d14e1-45d2-4d86-9144-fe14ecf33bea",
   "metadata": {},
   "outputs": [
    {
     "data": {
      "text/plain": [
       "21679980"
      ]
     },
     "execution_count": 408,
     "metadata": {},
     "output_type": "execute_result"
    }
   ],
   "source": [
    "sum_1 = sum(i^4 * (3 + j) for i in 1:20 for j in 1:5)"
   ]
  },
  {
   "cell_type": "code",
   "execution_count": 410,
   "id": "67d5ae85-16aa-42db-8964-256158f471d2",
   "metadata": {},
   "outputs": [
    {
     "data": {
      "text/plain": [
       "195839490"
      ]
     },
     "execution_count": 410,
     "metadata": {},
     "output_type": "execute_result"
    }
   ],
   "source": [
    "sum_2 = sum(i^4 * (3 + i*j) for i in 1:20 for j in 1:5)"
   ]
  }
 ],
 "metadata": {
  "kernelspec": {
   "display_name": "Julia 1.11.3",
   "language": "julia",
   "name": "julia-1.11"
  },
  "language_info": {
   "file_extension": ".jl",
   "mimetype": "application/julia",
   "name": "julia",
   "version": "1.11.3"
  }
 },
 "nbformat": 4,
 "nbformat_minor": 5
}

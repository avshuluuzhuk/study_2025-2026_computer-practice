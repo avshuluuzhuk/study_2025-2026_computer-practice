{
 "cells": [
  {
   "cell_type": "markdown",
   "id": "7960e672-7c86-4c4c-8fbe-d714cdf59fb1",
   "metadata": {},
   "source": [
    "### Шулуужук Айраана, НПИбд-02-22\n",
    "# Лабораторная работа № 4. Линейная алгебра"
   ]
  },
  {
   "cell_type": "markdown",
   "id": "5e07e5f0-447b-488e-ae69-07854c4bd4c1",
   "metadata": {},
   "source": [
    "## 1. Поэлементные операции над многомерными массивами"
   ]
  },
  {
   "cell_type": "code",
   "execution_count": 18,
   "id": "aa8f499e-947d-41e3-a754-90a24d1760cc",
   "metadata": {},
   "outputs": [
    {
     "data": {
      "text/plain": [
       "4×3 Matrix{Int64}:\n",
       "  1  15  14\n",
       " 11   3   5\n",
       " 19  16   8\n",
       "  9   2   2"
      ]
     },
     "execution_count": 18,
     "metadata": {},
     "output_type": "execute_result"
    }
   ],
   "source": [
    "# Для матрицы 4 × 3 рассмотрим поэлементные операции сложения и произведения её элементов:\n",
    "# Массив 4x3 со случайными целыми числами (от 1 до 20):\n",
    "a = rand(1:20,(4,3))"
   ]
  },
  {
   "cell_type": "code",
   "execution_count": 20,
   "id": "8a1aeaa8-d694-40e4-b7f6-9c72fef8f47f",
   "metadata": {},
   "outputs": [
    {
     "data": {
      "text/plain": [
       "105"
      ]
     },
     "execution_count": 20,
     "metadata": {},
     "output_type": "execute_result"
    }
   ],
   "source": [
    "# Поэлементная сумма:\n",
    "sum(a)"
   ]
  },
  {
   "cell_type": "code",
   "execution_count": 22,
   "id": "501257da-696d-4eb3-83e1-af457a4c1b77",
   "metadata": {},
   "outputs": [
    {
     "data": {
      "text/plain": [
       "1×3 Matrix{Int64}:\n",
       " 40  36  29"
      ]
     },
     "execution_count": 22,
     "metadata": {},
     "output_type": "execute_result"
    }
   ],
   "source": [
    "# Поэлементная сумма по столбцам:\n",
    "sum(a,dims=1)"
   ]
  },
  {
   "cell_type": "code",
   "execution_count": 24,
   "id": "a2c29663-4714-40c6-878f-8df8ff80395c",
   "metadata": {},
   "outputs": [
    {
     "data": {
      "text/plain": [
       "4×1 Matrix{Int64}:\n",
       " 30\n",
       " 19\n",
       " 43\n",
       " 13"
      ]
     },
     "execution_count": 24,
     "metadata": {},
     "output_type": "execute_result"
    }
   ],
   "source": [
    "# Поэлементная сумма по строкам:\n",
    "sum(a,dims=2)"
   ]
  },
  {
   "cell_type": "code",
   "execution_count": 26,
   "id": "41b1494d-f39e-4e51-b9b8-7e619d882b93",
   "metadata": {},
   "outputs": [
    {
     "data": {
      "text/plain": [
       "3033676800"
      ]
     },
     "execution_count": 26,
     "metadata": {},
     "output_type": "execute_result"
    }
   ],
   "source": [
    "# Поэлементное произведение:\n",
    "prod(a)"
   ]
  },
  {
   "cell_type": "code",
   "execution_count": 28,
   "id": "efe308d8-dcda-452f-8a7e-764a48f23a81",
   "metadata": {},
   "outputs": [
    {
     "data": {
      "text/plain": [
       "1×3 Matrix{Int64}:\n",
       " 1881  1440  1120"
      ]
     },
     "execution_count": 28,
     "metadata": {},
     "output_type": "execute_result"
    }
   ],
   "source": [
    "# Поэлементное произведение по столбцам:\n",
    "prod(a,dims=1)"
   ]
  },
  {
   "cell_type": "code",
   "execution_count": 30,
   "id": "9ad14c27-ea00-4062-9182-c49c8c3285a7",
   "metadata": {},
   "outputs": [
    {
     "data": {
      "text/plain": [
       "4×1 Matrix{Int64}:\n",
       "  210\n",
       "  165\n",
       " 2432\n",
       "   36"
      ]
     },
     "execution_count": 30,
     "metadata": {},
     "output_type": "execute_result"
    }
   ],
   "source": [
    "# Поэлементное произведение по строкам:\n",
    "prod(a,dims=2)"
   ]
  },
  {
   "cell_type": "code",
   "execution_count": 32,
   "id": "44a4aca6-6ac0-4e40-bb99-50bdb24d468d",
   "metadata": {},
   "outputs": [
    {
     "name": "stderr",
     "output_type": "stream",
     "text": [
      "\u001b[32m\u001b[1m    Updating\u001b[22m\u001b[39m registry at `C:\\Users\\airan\\.julia\\registries\\General.toml`\n",
      "\u001b[32m\u001b[1m   Resolving\u001b[22m\u001b[39m package versions...\n",
      "\u001b[32m\u001b[1m    Updating\u001b[22m\u001b[39m `C:\\Users\\airan\\.julia\\environments\\v1.11\\Project.toml`\n",
      "  \u001b[90m[10745b16] \u001b[39m\u001b[92m+ Statistics v1.11.1\u001b[39m\n",
      "\u001b[32m\u001b[1m  No Changes\u001b[22m\u001b[39m to `C:\\Users\\airan\\.julia\\environments\\v1.11\\Manifest.toml`\n"
     ]
    }
   ],
   "source": [
    "# Для работы со средними значениями можно воспользоваться возможностями пакета Statistics:\n",
    "# Подключение пакета Statistics:\n",
    "import Pkg\n",
    "Pkg.add(\"Statistics\")\n",
    "using Statistics"
   ]
  },
  {
   "cell_type": "code",
   "execution_count": 42,
   "id": "93fb5c57-ba2d-4c13-9a1c-99ca5df2abc8",
   "metadata": {},
   "outputs": [
    {
     "data": {
      "text/plain": [
       "8.75"
      ]
     },
     "execution_count": 42,
     "metadata": {},
     "output_type": "execute_result"
    }
   ],
   "source": [
    "# Вычисление среднего значения массива:\n",
    "mean(a)"
   ]
  },
  {
   "cell_type": "code",
   "execution_count": 44,
   "id": "93153eb6-d628-47fb-add8-852c42fcd23d",
   "metadata": {},
   "outputs": [
    {
     "data": {
      "text/plain": [
       "1×3 Matrix{Float64}:\n",
       " 10.0  9.0  7.25"
      ]
     },
     "execution_count": 44,
     "metadata": {},
     "output_type": "execute_result"
    }
   ],
   "source": [
    "# Среднее по столбцам:\n",
    "mean(a,dims=1)"
   ]
  },
  {
   "cell_type": "code",
   "execution_count": 46,
   "id": "23b68a17-1563-4c36-83c7-bb32aa2afbb4",
   "metadata": {},
   "outputs": [
    {
     "data": {
      "text/plain": [
       "4×1 Matrix{Float64}:\n",
       " 10.0\n",
       "  6.333333333333333\n",
       " 14.333333333333334\n",
       "  4.333333333333333"
      ]
     },
     "execution_count": 46,
     "metadata": {},
     "output_type": "execute_result"
    }
   ],
   "source": [
    "# Среднее по строкам:\n",
    "mean(a,dims=2)"
   ]
  },
  {
   "cell_type": "markdown",
   "id": "215fdc92-a9ac-4f53-a8ff-75b2253fc4bb",
   "metadata": {},
   "source": [
    "## 2. Транспонирование, след, ранг, определитель и инверсия матрицы"
   ]
  },
  {
   "cell_type": "code",
   "execution_count": 53,
   "id": "a63e45ea-3b17-429a-b242-4096abf1ccab",
   "metadata": {},
   "outputs": [
    {
     "name": "stderr",
     "output_type": "stream",
     "text": [
      "\u001b[32m\u001b[1m   Resolving\u001b[22m\u001b[39m package versions...\n",
      "\u001b[32m\u001b[1m    Updating\u001b[22m\u001b[39m `C:\\Users\\airan\\.julia\\environments\\v1.11\\Project.toml`\n",
      "  \u001b[90m[37e2e46d] \u001b[39m\u001b[92m+ LinearAlgebra v1.11.0\u001b[39m\n",
      "\u001b[32m\u001b[1m  No Changes\u001b[22m\u001b[39m to `C:\\Users\\airan\\.julia\\environments\\v1.11\\Manifest.toml`\n"
     ]
    },
    {
     "data": {
      "text/plain": [
       "4×4 Matrix{Int64}:\n",
       " 20  11   8   9\n",
       " 15   8  15  18\n",
       " 15  11   2  12\n",
       "  2  18  14  11"
      ]
     },
     "execution_count": 53,
     "metadata": {},
     "output_type": "execute_result"
    }
   ],
   "source": [
    "# Для выполнения таких операций над матрицами, как транспонирование, диагонализация, определение следа, ранга, определителя матрицы и т.п. можно воспользоваться\n",
    "# библиотекой (пакетом) LinearAlgebra:\n",
    "# Подключение пакета LinearAlgebra:\n",
    "import Pkg\n",
    "Pkg.add(\"LinearAlgebra\")\n",
    "using LinearAlgebra\n",
    "# Массив 4x4 со случайными целыми числами (от 1 до 20):\n",
    "b = rand(1:20,(4,4))"
   ]
  },
  {
   "cell_type": "code",
   "execution_count": 54,
   "id": "33dea601-407e-41c9-b67d-376a78cc48ef",
   "metadata": {},
   "outputs": [
    {
     "data": {
      "text/plain": [
       "4×4 transpose(::Matrix{Int64}) with eltype Int64:\n",
       " 20  15  15   2\n",
       " 11   8  11  18\n",
       "  8  15   2  14\n",
       "  9  18  12  11"
      ]
     },
     "execution_count": 54,
     "metadata": {},
     "output_type": "execute_result"
    }
   ],
   "source": [
    "# Транспонирование:\n",
    "transpose(b)"
   ]
  },
  {
   "cell_type": "code",
   "execution_count": 55,
   "id": "22321a71-186b-4016-8554-f2f2b0ab57b6",
   "metadata": {},
   "outputs": [
    {
     "data": {
      "text/plain": [
       "41"
      ]
     },
     "execution_count": 55,
     "metadata": {},
     "output_type": "execute_result"
    }
   ],
   "source": [
    "# След матрицы (сумма диагональных элементов):\n",
    "tr(b)"
   ]
  },
  {
   "cell_type": "code",
   "execution_count": 56,
   "id": "8f4f8389-c305-4872-b668-4c0e547fdbca",
   "metadata": {},
   "outputs": [
    {
     "data": {
      "text/plain": [
       "4-element Vector{Int64}:\n",
       " 20\n",
       "  8\n",
       "  2\n",
       " 11"
      ]
     },
     "execution_count": 56,
     "metadata": {},
     "output_type": "execute_result"
    }
   ],
   "source": [
    "# Извлечение диагональных элементов как массив:\n",
    "diag(b)"
   ]
  },
  {
   "cell_type": "code",
   "execution_count": 61,
   "id": "f4a05f21-0fc6-445d-920f-8786ab12b1f7",
   "metadata": {},
   "outputs": [
    {
     "data": {
      "text/plain": [
       "4"
      ]
     },
     "execution_count": 61,
     "metadata": {},
     "output_type": "execute_result"
    }
   ],
   "source": [
    "# Ранг матрицы:\n",
    "rank(b)"
   ]
  },
  {
   "cell_type": "code",
   "execution_count": 63,
   "id": "85f2102d-99ca-42f7-b4a6-589baef72789",
   "metadata": {},
   "outputs": [
    {
     "data": {
      "text/plain": [
       "4×4 Matrix{Float64}:\n",
       "  0.0682294  -0.00618964  -0.01407    -0.0303464\n",
       "  0.0171075  -0.0628707    0.0330114   0.0528699\n",
       "  0.0547612   0.0349314   -0.110411    0.018483\n",
       " -0.110095    0.0595467    0.0890621  -0.0136115"
      ]
     },
     "execution_count": 63,
     "metadata": {},
     "output_type": "execute_result"
    }
   ],
   "source": [
    "# Инверсия матрицы (определение обратной матрицы):\n",
    "inv(b)"
   ]
  },
  {
   "cell_type": "code",
   "execution_count": 67,
   "id": "aaa3efe0-6e58-47e2-ad8f-fb03f23a7cf0",
   "metadata": {},
   "outputs": [
    {
     "data": {
      "text/plain": [
       "34897.0"
      ]
     },
     "execution_count": 67,
     "metadata": {},
     "output_type": "execute_result"
    }
   ],
   "source": [
    "# Определитель матрицы:\n",
    "det(b)"
   ]
  },
  {
   "cell_type": "code",
   "execution_count": 69,
   "id": "41a984af-8e11-4ff3-b809-f80007194719",
   "metadata": {},
   "outputs": [
    {
     "data": {
      "text/plain": [
       "3×4 Matrix{Float64}:\n",
       " -0.0281416    0.0434907   0.0143904   0.030703\n",
       " -0.00358715  -0.121284    0.0951274  -0.0521903\n",
       "  0.0761469    0.131156   -0.101729    0.0459998"
      ]
     },
     "execution_count": 69,
     "metadata": {},
     "output_type": "execute_result"
    }
   ],
   "source": [
    "# Псевдобратная функция для прямоугольных матриц:\n",
    "pinv(a)"
   ]
  },
  {
   "cell_type": "markdown",
   "id": "0e12e85f-1783-44c3-b669-2f7034523ab3",
   "metadata": {},
   "source": [
    "## 3. Вычисление нормы векторов и матриц, повороты, вращения"
   ]
  },
  {
   "cell_type": "code",
   "execution_count": 74,
   "id": "3a1a8ca1-5dd7-40e2-a50e-616b6e04c486",
   "metadata": {},
   "outputs": [
    {
     "data": {
      "text/plain": [
       "3-element Vector{Int64}:\n",
       "  2\n",
       "  4\n",
       " -5"
      ]
     },
     "execution_count": 74,
     "metadata": {},
     "output_type": "execute_result"
    }
   ],
   "source": [
    "# Для вычисления нормы используется LinearAlgebra.norm(x).\n",
    "# Создание вектора X:\n",
    "X = [2, 4, -5]"
   ]
  },
  {
   "cell_type": "code",
   "execution_count": 76,
   "id": "4d11a332-a72b-454b-8218-cfbd288ad61a",
   "metadata": {},
   "outputs": [
    {
     "data": {
      "text/plain": [
       "6.708203932499369"
      ]
     },
     "execution_count": 76,
     "metadata": {},
     "output_type": "execute_result"
    }
   ],
   "source": [
    "# Вычисление евклидовой нормы:\n",
    "norm(X)"
   ]
  },
  {
   "cell_type": "code",
   "execution_count": 78,
   "id": "f9379b85-bb4f-47de-b97f-271d3cfe0a34",
   "metadata": {},
   "outputs": [
    {
     "data": {
      "text/plain": [
       "11.0"
      ]
     },
     "execution_count": 78,
     "metadata": {},
     "output_type": "execute_result"
    }
   ],
   "source": [
    "# Вычисление p-нормы:\n",
    "p = 1\n",
    "norm(X,p)"
   ]
  },
  {
   "cell_type": "code",
   "execution_count": 80,
   "id": "4c89952b-2fd0-4af3-9cea-c94ff0fb0304",
   "metadata": {},
   "outputs": [
    {
     "data": {
      "text/plain": [
       "9.486832980505138"
      ]
     },
     "execution_count": 80,
     "metadata": {},
     "output_type": "execute_result"
    }
   ],
   "source": [
    "# Расстояние между двумя векторами X и Y:\n",
    "X = [2, 4, -5];\n",
    "Y = [1,-1,3];\n",
    "norm(X-Y)"
   ]
  },
  {
   "cell_type": "code",
   "execution_count": 82,
   "id": "63ea17d5-d2c3-4d01-a423-70ba4c8dc4aa",
   "metadata": {},
   "outputs": [
    {
     "data": {
      "text/plain": [
       "9.486832980505138"
      ]
     },
     "execution_count": 82,
     "metadata": {},
     "output_type": "execute_result"
    }
   ],
   "source": [
    "# Проверка по базовому определению:\n",
    "sqrt(sum((X-Y).^2))"
   ]
  },
  {
   "cell_type": "code",
   "execution_count": 84,
   "id": "1c07946c-a5ed-4b02-bc8e-42c3bac12415",
   "metadata": {},
   "outputs": [
    {
     "data": {
      "text/plain": [
       "2.4404307889469252"
      ]
     },
     "execution_count": 84,
     "metadata": {},
     "output_type": "execute_result"
    }
   ],
   "source": [
    "# Угол между двумя векторами:\n",
    "acos((transpose(X)*Y)/(norm(X)*norm(Y)))"
   ]
  },
  {
   "cell_type": "code",
   "execution_count": 86,
   "id": "fa7cfcc3-fdc2-42e9-9a7a-aedd03b901f7",
   "metadata": {},
   "outputs": [
    {
     "data": {
      "text/plain": [
       "3×3 Matrix{Int64}:\n",
       "  5  -4  2\n",
       " -1   2  3\n",
       " -2   1  0"
      ]
     },
     "execution_count": 86,
     "metadata": {},
     "output_type": "execute_result"
    }
   ],
   "source": [
    "# Вычисление нормы для двумерной матрицы:\n",
    "# Создание матрицы:\n",
    "d = [5 -4 2 ; -1 2 3; -2 1 0]"
   ]
  },
  {
   "cell_type": "code",
   "execution_count": 88,
   "id": "818e6b07-8930-440c-91ec-4e1bc7d1391c",
   "metadata": {},
   "outputs": [
    {
     "data": {
      "text/plain": [
       "7.147682841795258"
      ]
     },
     "execution_count": 88,
     "metadata": {},
     "output_type": "execute_result"
    }
   ],
   "source": [
    "# Вычисление Евклидовой нормы:\n",
    "opnorm(d)"
   ]
  },
  {
   "cell_type": "code",
   "execution_count": 90,
   "id": "a2f04354-cdea-4d90-b27b-0eb135fbd00a",
   "metadata": {},
   "outputs": [
    {
     "data": {
      "text/plain": [
       "8.0"
      ]
     },
     "execution_count": 90,
     "metadata": {},
     "output_type": "execute_result"
    }
   ],
   "source": [
    "# Вычисление p-нормы:\n",
    "p=1\n",
    "opnorm(d,p)"
   ]
  },
  {
   "cell_type": "code",
   "execution_count": 92,
   "id": "92ae711b-4175-4ceb-88f0-893280a78d8c",
   "metadata": {},
   "outputs": [
    {
     "data": {
      "text/plain": [
       "3×3 Matrix{Int64}:\n",
       " 0   1  -2\n",
       " 3   2  -1\n",
       " 2  -4   5"
      ]
     },
     "execution_count": 92,
     "metadata": {},
     "output_type": "execute_result"
    }
   ],
   "source": [
    "# Поворот на 180 градусов:\n",
    "rot180(d)\n"
   ]
  },
  {
   "cell_type": "code",
   "execution_count": 94,
   "id": "51756909-fcd8-41f6-a1c1-d1df175ae579",
   "metadata": {},
   "outputs": [
    {
     "data": {
      "text/plain": [
       "3×3 Matrix{Int64}:\n",
       " -2   1  0\n",
       " -1   2  3\n",
       "  5  -4  2"
      ]
     },
     "execution_count": 94,
     "metadata": {},
     "output_type": "execute_result"
    }
   ],
   "source": [
    "# Переворачивание строк:\n",
    "reverse(d,dims=1)"
   ]
  },
  {
   "cell_type": "code",
   "execution_count": 96,
   "id": "108e294c-88ea-43fe-8c4a-7679529aa120",
   "metadata": {},
   "outputs": [
    {
     "data": {
      "text/plain": [
       "3×3 Matrix{Int64}:\n",
       " 2  -4   5\n",
       " 3   2  -1\n",
       " 0   1  -2"
      ]
     },
     "execution_count": 96,
     "metadata": {},
     "output_type": "execute_result"
    }
   ],
   "source": [
    "# Переворачивание столбцов\n",
    "reverse(d,dims=2)"
   ]
  },
  {
   "cell_type": "markdown",
   "id": "16d5e931-ccd1-4e1d-bb03-ffedc073e1b7",
   "metadata": {},
   "source": [
    "## 4. Матричное умножение, единичная матрица, скалярное произведение"
   ]
  },
  {
   "cell_type": "code",
   "execution_count": 101,
   "id": "baba0372-5a84-4549-903e-f11c96462bb8",
   "metadata": {},
   "outputs": [
    {
     "data": {
      "text/plain": [
       "2×3 Matrix{Int64}:\n",
       " 7  6  9\n",
       " 3  9  2"
      ]
     },
     "execution_count": 101,
     "metadata": {},
     "output_type": "execute_result"
    }
   ],
   "source": [
    "# Матрица 2x3 со случайными целыми значениями от 1 до 10:\n",
    "A = rand(1:10,(2,3))"
   ]
  },
  {
   "cell_type": "code",
   "execution_count": 103,
   "id": "db549a88-c145-4e82-b2d9-32f82ddd36fb",
   "metadata": {},
   "outputs": [
    {
     "data": {
      "text/plain": [
       "3×4 Matrix{Int64}:\n",
       " 10  6  7   9\n",
       "  1  9  4  10\n",
       "  5  7  3   2"
      ]
     },
     "execution_count": 103,
     "metadata": {},
     "output_type": "execute_result"
    }
   ],
   "source": [
    "# Матрица 3x4 со случайными целыми значениями от 1 до 10:\n",
    "B = rand(1:10,(3,4))"
   ]
  },
  {
   "cell_type": "code",
   "execution_count": 105,
   "id": "3beb9ada-308c-421e-9c2f-11144865f2ea",
   "metadata": {},
   "outputs": [
    {
     "data": {
      "text/plain": [
       "2×4 Matrix{Int64}:\n",
       " 121  159  100  141\n",
       "  49  113   63  121"
      ]
     },
     "execution_count": 105,
     "metadata": {},
     "output_type": "execute_result"
    }
   ],
   "source": [
    "# Произведение матриц A и B:\n",
    "A*B"
   ]
  },
  {
   "cell_type": "code",
   "execution_count": 107,
   "id": "b00b6b54-d02c-4922-ac2a-5642aea2cd88",
   "metadata": {},
   "outputs": [
    {
     "data": {
      "text/plain": [
       "3×3 Matrix{Int64}:\n",
       " 1  0  0\n",
       " 0  1  0\n",
       " 0  0  1"
      ]
     },
     "execution_count": 107,
     "metadata": {},
     "output_type": "execute_result"
    }
   ],
   "source": [
    "# Единичная матрица 3x3:\n",
    "Matrix{Int}(I, 3, 3)"
   ]
  },
  {
   "cell_type": "code",
   "execution_count": 109,
   "id": "86426440-2d1f-443c-ba5d-4f3c36f6f88f",
   "metadata": {},
   "outputs": [
    {
     "data": {
      "text/plain": [
       "-17"
      ]
     },
     "execution_count": 109,
     "metadata": {},
     "output_type": "execute_result"
    }
   ],
   "source": [
    "# Скалярное произведение векторов X и Y:\n",
    "X = [2, 4, -5]\n",
    "Y = [1,-1,3]\n",
    "dot(X,Y)"
   ]
  },
  {
   "cell_type": "code",
   "execution_count": 111,
   "id": "1075f9e3-d230-4387-ad79-874f2250e2a7",
   "metadata": {},
   "outputs": [
    {
     "data": {
      "text/plain": [
       "-17"
      ]
     },
     "execution_count": 111,
     "metadata": {},
     "output_type": "execute_result"
    }
   ],
   "source": [
    "# тоже скалярное произведение:\n",
    "X'Y"
   ]
  },
  {
   "cell_type": "markdown",
   "id": "885b4ade-9abe-4363-9a8e-c8d5248f627d",
   "metadata": {},
   "source": [
    "# 5.  Факторизация. Специальные матричные структуры"
   ]
  },
  {
   "cell_type": "code",
   "execution_count": 116,
   "id": "308e0ec5-7429-4d05-9cf2-9173c806d3ed",
   "metadata": {},
   "outputs": [
    {
     "data": {
      "text/plain": [
       "3×3 Matrix{Float64}:\n",
       " 0.886681  0.401979  0.916675\n",
       " 0.262331  0.945059  0.628263\n",
       " 0.851961  0.99202   0.538704"
      ]
     },
     "execution_count": 116,
     "metadata": {},
     "output_type": "execute_result"
    }
   ],
   "source": [
    "# Решение систем линейный алгебраических уравнений 𝐴𝑥 = 𝑏:\n",
    "# Задаём квадратную матрицу 3x3 со случайными значениями:\n",
    "A = rand(3, 3)"
   ]
  },
  {
   "cell_type": "code",
   "execution_count": 118,
   "id": "4e768565-055d-49d6-a713-3f5554704216",
   "metadata": {},
   "outputs": [
    {
     "data": {
      "text/plain": [
       "3-element Vector{Float64}:\n",
       " 1.0\n",
       " 1.0\n",
       " 1.0"
      ]
     },
     "execution_count": 118,
     "metadata": {},
     "output_type": "execute_result"
    }
   ],
   "source": [
    "# Задаём единичный вектор:\n",
    "x = fill(1.0, 3)"
   ]
  },
  {
   "cell_type": "code",
   "execution_count": 120,
   "id": "c39dee3f-88da-4cbb-8b61-e0ff393a3361",
   "metadata": {},
   "outputs": [
    {
     "data": {
      "text/plain": [
       "3-element Vector{Float64}:\n",
       " 2.2053346737284576\n",
       " 1.835653219998258\n",
       " 2.382684297793384"
      ]
     },
     "execution_count": 120,
     "metadata": {},
     "output_type": "execute_result"
    }
   ],
   "source": [
    "# Задаём вектор b:\n",
    "b = A*x"
   ]
  },
  {
   "cell_type": "code",
   "execution_count": 122,
   "id": "381855e3-20c5-4a2d-bf3a-c6393c9572ac",
   "metadata": {},
   "outputs": [
    {
     "data": {
      "text/plain": [
       "3-element Vector{Float64}:\n",
       " 1.0000000000000007\n",
       " 1.0\n",
       " 0.9999999999999998"
      ]
     },
     "execution_count": 122,
     "metadata": {},
     "output_type": "execute_result"
    }
   ],
   "source": [
    "# Решение исходного уравнения получаем с помощью функции \\\n",
    "# (убеждаемся, что x - единичный вектор):\n",
    "A\\b"
   ]
  },
  {
   "cell_type": "code",
   "execution_count": 126,
   "id": "f7e4eed1-5103-4f16-b1d4-ce35a40b3f66",
   "metadata": {},
   "outputs": [
    {
     "data": {
      "text/plain": [
       "LU{Float64, Matrix{Float64}, Vector{Int64}}\n",
       "L factor:\n",
       "3×3 Matrix{Float64}:\n",
       " 1.0       0.0       0.0\n",
       " 0.295858  1.0       0.0\n",
       " 0.960842  0.733276  1.0\n",
       "U factor:\n",
       "3×3 Matrix{Float64}:\n",
       " 0.886681  0.401979   0.916675\n",
       " 0.0       0.82613    0.357058\n",
       " 0.0       0.0       -0.603898"
      ]
     },
     "execution_count": 126,
     "metadata": {},
     "output_type": "execute_result"
    }
   ],
   "source": [
    "# Julia позволяет вычислять LU-факторизацию и определяет составной тип факторизации для его хранения:\n",
    "# LU-факторизация:\n",
    "Alu = lu(A)"
   ]
  },
  {
   "cell_type": "code",
   "execution_count": 128,
   "id": "4050b0b5-aba7-4c0a-8912-81a682058341",
   "metadata": {},
   "outputs": [
    {
     "data": {
      "text/plain": [
       "3×3 Matrix{Float64}:\n",
       " 1.0  0.0  0.0\n",
       " 0.0  1.0  0.0\n",
       " 0.0  0.0  1.0"
      ]
     },
     "execution_count": 128,
     "metadata": {},
     "output_type": "execute_result"
    }
   ],
   "source": [
    "# Различные части факторизации могут быть извлечены путём доступа к их специальным свойствам:\n",
    "# Матрица перестановок:\n",
    "Alu.P"
   ]
  },
  {
   "cell_type": "code",
   "execution_count": 130,
   "id": "9df5ab4a-a5e1-4c03-8251-da8831490fc6",
   "metadata": {},
   "outputs": [
    {
     "data": {
      "text/plain": [
       "3-element Vector{Int64}:\n",
       " 1\n",
       " 2\n",
       " 3"
      ]
     },
     "execution_count": 130,
     "metadata": {},
     "output_type": "execute_result"
    }
   ],
   "source": [
    "# Вектор перестановок:\n",
    "Alu.p"
   ]
  },
  {
   "cell_type": "code",
   "execution_count": 132,
   "id": "b42278ff-29b9-464f-80a2-371774f56fee",
   "metadata": {},
   "outputs": [
    {
     "data": {
      "text/plain": [
       "3×3 Matrix{Float64}:\n",
       " 1.0       0.0       0.0\n",
       " 0.295858  1.0       0.0\n",
       " 0.960842  0.733276  1.0"
      ]
     },
     "execution_count": 132,
     "metadata": {},
     "output_type": "execute_result"
    }
   ],
   "source": [
    "# Матрица L:\n",
    "Alu.L"
   ]
  },
  {
   "cell_type": "code",
   "execution_count": 134,
   "id": "062fb929-4877-46ea-8cb3-b293c4d83f9b",
   "metadata": {},
   "outputs": [
    {
     "data": {
      "text/plain": [
       "3×3 Matrix{Float64}:\n",
       " 0.886681  0.401979   0.916675\n",
       " 0.0       0.82613    0.357058\n",
       " 0.0       0.0       -0.603898"
      ]
     },
     "execution_count": 134,
     "metadata": {},
     "output_type": "execute_result"
    }
   ],
   "source": [
    "# Матрица U:\n",
    "Alu.U"
   ]
  },
  {
   "cell_type": "code",
   "execution_count": 136,
   "id": "6e1994c7-8ced-455d-a35d-dff736267265",
   "metadata": {},
   "outputs": [
    {
     "data": {
      "text/plain": [
       "3-element Vector{Float64}:\n",
       " 1.0000000000000007\n",
       " 1.0\n",
       " 0.9999999999999998"
      ]
     },
     "execution_count": 136,
     "metadata": {},
     "output_type": "execute_result"
    }
   ],
   "source": [
    "# Исходная система уравнений 𝐴𝑥 = 𝑏 может быть решена или с использованием\n",
    "# исходной матрицы, или с использованием объекта факторизации:\n",
    "# Решение СЛАУ через матрицу A:\n",
    "A\\b"
   ]
  },
  {
   "cell_type": "code",
   "execution_count": 138,
   "id": "8603033e-41a4-4ec0-97fb-90e5237af4ce",
   "metadata": {},
   "outputs": [
    {
     "data": {
      "text/plain": [
       "3-element Vector{Float64}:\n",
       " 1.0000000000000007\n",
       " 1.0\n",
       " 0.9999999999999998"
      ]
     },
     "execution_count": 138,
     "metadata": {},
     "output_type": "execute_result"
    }
   ],
   "source": [
    "# Решение СЛАУ через объект факторизации:\n",
    "Alu\\b"
   ]
  },
  {
   "cell_type": "code",
   "execution_count": 142,
   "id": "0169f9e8-6ba5-43e5-bf57-f4da0606110e",
   "metadata": {},
   "outputs": [
    {
     "data": {
      "text/plain": [
       "-0.44236390523762914"
      ]
     },
     "execution_count": 142,
     "metadata": {},
     "output_type": "execute_result"
    }
   ],
   "source": [
    "# Аналогично можно найти детерминант матрицы:\n",
    "# Детерминант матрицы A:\n",
    "det(A)"
   ]
  },
  {
   "cell_type": "code",
   "execution_count": 144,
   "id": "d1289ddc-a4a1-4e73-9185-c072075279b0",
   "metadata": {},
   "outputs": [
    {
     "data": {
      "text/plain": [
       "-0.44236390523762914"
      ]
     },
     "execution_count": 144,
     "metadata": {},
     "output_type": "execute_result"
    }
   ],
   "source": [
    "# Детерминант матрицы A через объект факторизации:\n",
    "det(Alu)"
   ]
  },
  {
   "cell_type": "code",
   "execution_count": 146,
   "id": "14ce929f-fd17-4ca8-b121-13adab8277c7",
   "metadata": {},
   "outputs": [
    {
     "data": {
      "text/plain": [
       "LinearAlgebra.QRCompactWY{Float64, Matrix{Float64}, Matrix{Float64}}\n",
       "Q factor: 3×3 LinearAlgebra.QRCompactWYQ{Float64, Matrix{Float64}, Matrix{Float64}}\n",
       "R factor:\n",
       "3×3 Matrix{Float64}:\n",
       " -1.25732  -1.15285  -1.14256\n",
       "  0.0      -0.84247  -0.212981\n",
       "  0.0       0.0      -0.417617"
      ]
     },
     "execution_count": 146,
     "metadata": {},
     "output_type": "execute_result"
    }
   ],
   "source": [
    "# Julia позволяет вычислять QR-факторизацию и определяет составной тип факторизации для его хранения:\n",
    "# QR-факторизация:\n",
    "Aqr = qr(A)"
   ]
  },
  {
   "cell_type": "code",
   "execution_count": 148,
   "id": "40f3cbaa-009b-45e7-a291-97782788c633",
   "metadata": {},
   "outputs": [
    {
     "data": {
      "text/plain": [
       "3×3 LinearAlgebra.QRCompactWYQ{Float64, Matrix{Float64}, Matrix{Float64}}"
      ]
     },
     "execution_count": 148,
     "metadata": {},
     "output_type": "execute_result"
    }
   ],
   "source": [
    "# По аналогии с LU-факторизацией различные части QR-факторизации могут быть извлечены путём доступа к их специальным свойствам:\n",
    "# Матрица Q:\n",
    "Aqr.Q"
   ]
  },
  {
   "cell_type": "code",
   "execution_count": 150,
   "id": "34d752e3-d022-4f71-bf91-dbe1268cdf55",
   "metadata": {},
   "outputs": [
    {
     "data": {
      "text/plain": [
       "3×3 Matrix{Float64}:\n",
       " -1.25732  -1.15285  -1.14256\n",
       "  0.0      -0.84247  -0.212981\n",
       "  0.0       0.0      -0.417617"
      ]
     },
     "execution_count": 150,
     "metadata": {},
     "output_type": "execute_result"
    }
   ],
   "source": [
    "# Матрица R:\n",
    "Aqr.R"
   ]
  },
  {
   "cell_type": "code",
   "execution_count": 152,
   "id": "a90cba3a-5394-459c-ad27-fc9aee4ca480",
   "metadata": {},
   "outputs": [
    {
     "data": {
      "text/plain": [
       "3×3 Matrix{Float64}:\n",
       "  1.0          0.0          0.0\n",
       " -1.11022e-16  1.0          0.0\n",
       "  0.0          1.11022e-16  1.0"
      ]
     },
     "execution_count": 152,
     "metadata": {},
     "output_type": "execute_result"
    }
   ],
   "source": [
    "# Проверка, что матрица Q - ортогональная:\n",
    "Aqr.Q'*Aqr.Q"
   ]
  },
  {
   "cell_type": "code",
   "execution_count": 154,
   "id": "967c2772-fc9a-45e0-852e-9b5ae241f3ee",
   "metadata": {},
   "outputs": [
    {
     "data": {
      "text/plain": [
       "3×3 Matrix{Float64}:\n",
       " 1.77336  0.66431  1.76864\n",
       " 0.66431  1.89012  1.62028\n",
       " 1.76864  1.62028  1.07741"
      ]
     },
     "execution_count": 154,
     "metadata": {},
     "output_type": "execute_result"
    }
   ],
   "source": [
    "# Примеры собственной декомпозиции матрицы 𝐴:\n",
    "# Симметризация матрицы A:\n",
    "Asym = A + A'"
   ]
  },
  {
   "cell_type": "code",
   "execution_count": 156,
   "id": "3999444d-d7a7-4f95-b87f-f00dda3c6338",
   "metadata": {},
   "outputs": [
    {
     "data": {
      "text/plain": [
       "Eigen{Float64, Float64, Matrix{Float64}, Vector{Float64}}\n",
       "values:\n",
       "3-element Vector{Float64}:\n",
       " -0.7198759543256772\n",
       "  1.174848848234654\n",
       "  4.285914908945202\n",
       "vectors:\n",
       "3×3 Matrix{Float64}:\n",
       " -0.466672   0.676165   0.570103\n",
       " -0.377691  -0.735228   0.56284\n",
       "  0.799729   0.0473388  0.598492"
      ]
     },
     "execution_count": 156,
     "metadata": {},
     "output_type": "execute_result"
    }
   ],
   "source": [
    "# Спектральное разложение симметризованной матрицы:\n",
    "AsymEig = eigen(Asym)"
   ]
  },
  {
   "cell_type": "code",
   "execution_count": 158,
   "id": "b4ee2a3d-a709-47d1-9870-ccac3042d0e6",
   "metadata": {},
   "outputs": [
    {
     "data": {
      "text/plain": [
       "3-element Vector{Float64}:\n",
       " -0.7198759543256772\n",
       "  1.174848848234654\n",
       "  4.285914908945202"
      ]
     },
     "execution_count": 158,
     "metadata": {},
     "output_type": "execute_result"
    }
   ],
   "source": [
    "# Собственные значения:\n",
    "AsymEig.values"
   ]
  },
  {
   "cell_type": "code",
   "execution_count": 160,
   "id": "2ef4a008-4a50-4463-8527-0d53c584e0c6",
   "metadata": {},
   "outputs": [
    {
     "data": {
      "text/plain": [
       "3×3 Matrix{Float64}:\n",
       " -0.466672   0.676165   0.570103\n",
       " -0.377691  -0.735228   0.56284\n",
       "  0.799729   0.0473388  0.598492"
      ]
     },
     "execution_count": 160,
     "metadata": {},
     "output_type": "execute_result"
    }
   ],
   "source": [
    "#Собственные векторы:\n",
    "AsymEig.vectors"
   ]
  },
  {
   "cell_type": "code",
   "execution_count": 162,
   "id": "6bfee31f-c729-4bee-af3c-95d03baee6f5",
   "metadata": {},
   "outputs": [
    {
     "data": {
      "text/plain": [
       "3×3 Matrix{Float64}:\n",
       "  1.0           2.88658e-15  -3.66374e-15\n",
       "  2.10942e-15   1.0          -2.55351e-15\n",
       " -2.88658e-15  -2.44249e-15   1.0"
      ]
     },
     "execution_count": 162,
     "metadata": {},
     "output_type": "execute_result"
    }
   ],
   "source": [
    "# Проверяем, что получится единичная матрица:\n",
    "inv(AsymEig)*Asym"
   ]
  },
  {
   "cell_type": "code",
   "execution_count": 164,
   "id": "53a0cfa4-9b0e-4c6d-a7ab-0c4632a42ffa",
   "metadata": {},
   "outputs": [
    {
     "data": {
      "text/plain": [
       "1000×1000 Matrix{Float64}:\n",
       "  0.623945   -0.496967   -2.11426    …  -3.00805    -0.219126   0.573915\n",
       "  1.68989    -0.833416   -0.589519       1.45875    -1.34334   -1.08256\n",
       " -2.13341     0.416017   -0.197505      -0.191931    0.916257  -0.529161\n",
       "  0.28138    -0.543692    0.848357      -0.375581   -0.501058   0.157937\n",
       "  0.725278   -1.11208    -0.373024       0.258856   -0.264299   1.59997\n",
       " -0.7064      0.915139    0.481475   …   0.651622   -1.02356    0.721476\n",
       " -2.66783    -1.46398    -1.93301       -0.686501    0.916731  -0.914721\n",
       "  1.85293     0.0744687  -1.13425       -1.47091    -0.862759   0.145169\n",
       " -1.29492    -0.200792    0.515706       1.33222     0.39225    0.685819\n",
       "  0.0210809   0.86459     0.383984       0.0117303   3.15703   -0.270259\n",
       " -1.57396     1.16046    -1.56245    …   0.0594681   0.111526   2.54117\n",
       " -1.22432    -1.27418    -0.776848      -0.274711    0.96499   -1.77935\n",
       " -1.57427    -1.31015     0.181534       0.431541   -1.08759   -0.58189\n",
       "  ⋮                                  ⋱                         \n",
       " -2.00994     0.511314    1.32301        0.756117   -1.51579    0.721919\n",
       " -0.297101    0.0276618  -0.0342905      0.598987    0.05747    0.223246\n",
       "  0.135391    0.27086     0.309019   …  -0.394535    0.2114     0.0651544\n",
       "  0.0959663   0.418049    1.6702        -0.955941    1.02128   -0.204544\n",
       "  1.64632     0.528453   -0.423169       0.0945252  -1.25647    1.27456\n",
       "  0.187143   -0.939017   -0.0285036     -1.94846    -0.812934   0.606777\n",
       "  0.480552   -2.08577     0.37736       -1.35603    -1.60357   -0.794517\n",
       " -1.15752     0.685581    0.581649   …  -0.288021   -0.220275  -0.519108\n",
       " -0.477518   -1.69567    -0.870685       0.625143    2.74323    0.427758\n",
       "  0.381588    0.477474   -0.11569        1.08246     1.00305   -0.33671\n",
       "  0.147353   -1.05072    -0.0593053      0.079177    0.258565  -0.0526398\n",
       " -0.149447    0.0739406   0.187968       0.755069   -0.543504  -0.940728"
      ]
     },
     "execution_count": 164,
     "metadata": {},
     "output_type": "execute_result"
    }
   ],
   "source": [
    "# Далее рассмотрим примеры работы с матрицами большой размерности и специальной структуры.\n",
    "# Матрица 1000 х 1000:\n",
    "n = 1000\n",
    "A = randn(n,n)"
   ]
  },
  {
   "cell_type": "code",
   "execution_count": 166,
   "id": "49b43818-69f9-41f8-afae-cde37f7a2145",
   "metadata": {},
   "outputs": [
    {
     "data": {
      "text/plain": [
       "1000×1000 Matrix{Float64}:\n",
       "  1.24789     1.19293   -4.24767    …  -2.62646   -0.0717734   0.424468\n",
       "  1.19293    -1.66683   -0.173503       1.93622   -2.39406    -1.00862\n",
       " -4.24767    -0.173503  -0.39501       -0.307621   0.856952   -0.341193\n",
       "  0.661497   -0.754481   0.920563       0.049072  -0.724429    1.08763\n",
       "  1.08465    -0.794996   0.480442      -0.274565  -0.269998    1.03999\n",
       " -0.428831    0.629295  -1.70503    …   0.417652  -1.0594     -0.59288\n",
       " -2.95268    -1.4381    -1.16623        0.187729   0.240953   -0.185212\n",
       "  0.906144    0.394353  -1.43494       -1.89401   -2.85063     1.54254\n",
       " -2.64244    -0.576733   0.0450604      0.627701   0.534378    1.39839\n",
       " -0.163922    1.77654    1.42639       -0.631411   4.36775    -1.70137\n",
       " -1.78534     0.92908   -2.51808    …  -1.63213    0.821041    3.55793\n",
       " -0.794167   -0.406059  -1.21009       -1.44541    0.321119    0.681602\n",
       " -1.78873    -1.84311   -0.338946      -0.908856   0.118506    0.228114\n",
       "  ⋮                                 ⋱                         \n",
       " -1.57741     1.52802    0.477084       0.384377  -0.61353    -0.744646\n",
       " -1.2265      1.05687    0.209228       0.942976   0.353288   -0.865458\n",
       "  0.320899    0.921174   0.103883   …   1.43052    0.0708732   0.670939\n",
       "  0.15611     0.812566  -1.38991       -1.90851    1.40172     0.0109671\n",
       "  0.977908    1.42513    1.52782       -0.274802  -1.55277     2.20034\n",
       "  0.670046   -1.39204    0.961488      -2.59513   -3.61322     1.7157\n",
       "  0.81705    -1.40357    0.23469       -1.81623   -0.565023    0.33051\n",
       " -1.05968    -1.25758   -0.294913   …  -0.722654   0.437491   -1.37531\n",
       "  0.339985   -0.587766  -2.20773        2.7329     2.34075    -0.000816334\n",
       " -2.62646     1.93622   -0.307621       2.16492    1.08223     0.418359\n",
       " -0.0717734  -2.39406    0.856952       1.08223    0.517131   -0.596144\n",
       "  0.424468   -1.00862   -0.341193       0.418359  -0.596144   -1.88146"
      ]
     },
     "execution_count": 166,
     "metadata": {},
     "output_type": "execute_result"
    }
   ],
   "source": [
    "# Симметризация матрицы:\n",
    "Asym = A + A'"
   ]
  },
  {
   "cell_type": "code",
   "execution_count": 168,
   "id": "2874de5c-6c42-49db-85e3-c0bb8ba888c2",
   "metadata": {},
   "outputs": [
    {
     "data": {
      "text/plain": [
       "true"
      ]
     },
     "execution_count": 168,
     "metadata": {},
     "output_type": "execute_result"
    }
   ],
   "source": [
    "# Проверка, является ли матрица симметричной:\n",
    "issymmetric(Asym)"
   ]
  },
  {
   "cell_type": "code",
   "execution_count": 170,
   "id": "f7fc7b48-9f31-41fa-9bd7-62176ec8a627",
   "metadata": {},
   "outputs": [
    {
     "data": {
      "text/plain": [
       "1.192925531359975"
      ]
     },
     "execution_count": 170,
     "metadata": {},
     "output_type": "execute_result"
    }
   ],
   "source": [
    "# Пример добавления шума в симметричную матрицу (матрица уже не будет симметричной):\n",
    "# Добавление шума:\n",
    "Asym_noisy = copy(Asym)\n",
    "Asym_noisy[1,2] += 5eps()"
   ]
  },
  {
   "cell_type": "code",
   "execution_count": 172,
   "id": "d38d1793-ef43-49e9-b8cc-cff1b2c6ad77",
   "metadata": {},
   "outputs": [
    {
     "data": {
      "text/plain": [
       "false"
      ]
     },
     "execution_count": 172,
     "metadata": {},
     "output_type": "execute_result"
    }
   ],
   "source": [
    "# Проверка, является ли матрица симметричной:\n",
    "issymmetric(Asym_noisy)"
   ]
  },
  {
   "cell_type": "code",
   "execution_count": 174,
   "id": "1a65b96a-2889-47fc-a058-69948f4acdfa",
   "metadata": {},
   "outputs": [
    {
     "data": {
      "text/plain": [
       "1000×1000 Symmetric{Float64, Matrix{Float64}}:\n",
       "  1.24789     1.19293   -4.24767    …  -2.62646   -0.0717734   0.424468\n",
       "  1.19293    -1.66683   -0.173503       1.93622   -2.39406    -1.00862\n",
       " -4.24767    -0.173503  -0.39501       -0.307621   0.856952   -0.341193\n",
       "  0.661497   -0.754481   0.920563       0.049072  -0.724429    1.08763\n",
       "  1.08465    -0.794996   0.480442      -0.274565  -0.269998    1.03999\n",
       " -0.428831    0.629295  -1.70503    …   0.417652  -1.0594     -0.59288\n",
       " -2.95268    -1.4381    -1.16623        0.187729   0.240953   -0.185212\n",
       "  0.906144    0.394353  -1.43494       -1.89401   -2.85063     1.54254\n",
       " -2.64244    -0.576733   0.0450604      0.627701   0.534378    1.39839\n",
       " -0.163922    1.77654    1.42639       -0.631411   4.36775    -1.70137\n",
       " -1.78534     0.92908   -2.51808    …  -1.63213    0.821041    3.55793\n",
       " -0.794167   -0.406059  -1.21009       -1.44541    0.321119    0.681602\n",
       " -1.78873    -1.84311   -0.338946      -0.908856   0.118506    0.228114\n",
       "  ⋮                                 ⋱                         \n",
       " -1.57741     1.52802    0.477084       0.384377  -0.61353    -0.744646\n",
       " -1.2265      1.05687    0.209228       0.942976   0.353288   -0.865458\n",
       "  0.320899    0.921174   0.103883   …   1.43052    0.0708732   0.670939\n",
       "  0.15611     0.812566  -1.38991       -1.90851    1.40172     0.0109671\n",
       "  0.977908    1.42513    1.52782       -0.274802  -1.55277     2.20034\n",
       "  0.670046   -1.39204    0.961488      -2.59513   -3.61322     1.7157\n",
       "  0.81705    -1.40357    0.23469       -1.81623   -0.565023    0.33051\n",
       " -1.05968    -1.25758   -0.294913   …  -0.722654   0.437491   -1.37531\n",
       "  0.339985   -0.587766  -2.20773        2.7329     2.34075    -0.000816334\n",
       " -2.62646     1.93622   -0.307621       2.16492    1.08223     0.418359\n",
       " -0.0717734  -2.39406    0.856952       1.08223    0.517131   -0.596144\n",
       "  0.424468   -1.00862   -0.341193       0.418359  -0.596144   -1.88146"
      ]
     },
     "execution_count": 174,
     "metadata": {},
     "output_type": "execute_result"
    }
   ],
   "source": [
    "# В Julia можно объявить структуру матрица явно, например, используя Diagonal,\n",
    "# Triangular, Symmetric, Hermitian, Tridiagonal и SymTridiagonal:\n",
    "# Явно указываем, что матрица является симметричной:\n",
    "Asym_explicit = Symmetric(Asym_noisy)\n"
   ]
  },
  {
   "cell_type": "code",
   "execution_count": 176,
   "id": "ec883ff8-4164-4d56-858b-37ce774983c6",
   "metadata": {},
   "outputs": [
    {
     "name": "stderr",
     "output_type": "stream",
     "text": [
      "\u001b[32m\u001b[1m   Resolving\u001b[22m\u001b[39m package versions...\n",
      "\u001b[32m\u001b[1m   Installed\u001b[22m\u001b[39m BenchmarkTools ─ v1.6.3\n",
      "\u001b[32m\u001b[1m    Updating\u001b[22m\u001b[39m `C:\\Users\\airan\\.julia\\environments\\v1.11\\Project.toml`\n",
      "  \u001b[90m[6e4b80f9] \u001b[39m\u001b[92m+ BenchmarkTools v1.6.3\u001b[39m\n",
      "\u001b[32m\u001b[1m    Updating\u001b[22m\u001b[39m `C:\\Users\\airan\\.julia\\environments\\v1.11\\Manifest.toml`\n",
      "  \u001b[90m[6e4b80f9] \u001b[39m\u001b[92m+ BenchmarkTools v1.6.3\u001b[39m\n",
      "  \u001b[90m[9abbd945] \u001b[39m\u001b[92m+ Profile v1.11.0\u001b[39m\n",
      "\u001b[92m\u001b[1mPrecompiling\u001b[22m\u001b[39m project...\n",
      "   6012.3 ms\u001b[32m  ✓ \u001b[39mBenchmarkTools\n",
      "  1 dependency successfully precompiled in 10 seconds. 461 already precompiled.\n"
     ]
    }
   ],
   "source": [
    "# Далее для оценки эффективности выполнения операций над матрицами большой\n",
    "# размерности и специальной структуры воспользуемся пакетом BenchmarkTools:\n",
    "import Pkg\n",
    "Pkg.add(\"BenchmarkTools\")\n",
    "using BenchmarkTools\n"
   ]
  },
  {
   "cell_type": "code",
   "execution_count": 178,
   "id": "ad34599b-2975-46da-abfa-f80ab4ca99e2",
   "metadata": {},
   "outputs": [
    {
     "name": "stdout",
     "output_type": "stream",
     "text": [
      "  77.999 ms (21 allocations: 7.99 MiB)\n"
     ]
    }
   ],
   "source": [
    "# Оценка эффективности выполнения операции по нахождению\n",
    "# собственных значений симметризованной матрицы:\n",
    "@btime eigvals(Asym);"
   ]
  },
  {
   "cell_type": "code",
   "execution_count": 179,
   "id": "980fe0cd-137a-4f05-aba7-5febecf72bdf",
   "metadata": {},
   "outputs": [
    {
     "name": "stdout",
     "output_type": "stream",
     "text": [
      "  516.202 ms (27 allocations: 7.93 MiB)\n"
     ]
    }
   ],
   "source": [
    "# Оценка эффективности выполнения операции по нахождению\n",
    "# собственных значений зашумлённой матрицы:\n",
    "@btime eigvals(Asym_noisy);"
   ]
  },
  {
   "cell_type": "code",
   "execution_count": 184,
   "id": "83741602-121c-4ada-803a-14ddc6b7099b",
   "metadata": {},
   "outputs": [
    {
     "name": "stdout",
     "output_type": "stream",
     "text": [
      "  65.899 ms (21 allocations: 7.99 MiB)\n"
     ]
    }
   ],
   "source": [
    "# Оценка эффективности выполнения операции по нахождению\n",
    "# собственных значений зашумлённой матрицы,\n",
    "# для которой явно указано, что она симметричная:\n",
    "@btime eigvals(Asym_explicit);"
   ]
  },
  {
   "cell_type": "code",
   "execution_count": 186,
   "id": "5de674c2-805e-4cfe-986e-ab3f45226f1b",
   "metadata": {},
   "outputs": [
    {
     "data": {
      "text/plain": [
       "1000000×1000000 SymTridiagonal{Float64, Vector{Float64}}:\n",
       " -0.271794  -2.49126    ⋅        …    ⋅          ⋅          ⋅ \n",
       " -2.49126    1.22846   1.48041        ⋅          ⋅          ⋅ \n",
       "   ⋅         1.48041  -0.368774       ⋅          ⋅          ⋅ \n",
       "   ⋅          ⋅        0.562906       ⋅          ⋅          ⋅ \n",
       "   ⋅          ⋅         ⋅             ⋅          ⋅          ⋅ \n",
       "   ⋅          ⋅         ⋅        …    ⋅          ⋅          ⋅ \n",
       "   ⋅          ⋅         ⋅             ⋅          ⋅          ⋅ \n",
       "   ⋅          ⋅         ⋅             ⋅          ⋅          ⋅ \n",
       "   ⋅          ⋅         ⋅             ⋅          ⋅          ⋅ \n",
       "   ⋅          ⋅         ⋅             ⋅          ⋅          ⋅ \n",
       "   ⋅          ⋅         ⋅        …    ⋅          ⋅          ⋅ \n",
       "   ⋅          ⋅         ⋅             ⋅          ⋅          ⋅ \n",
       "   ⋅          ⋅         ⋅             ⋅          ⋅          ⋅ \n",
       "  ⋮                              ⋱                        \n",
       "   ⋅          ⋅         ⋅             ⋅          ⋅          ⋅ \n",
       "   ⋅          ⋅         ⋅             ⋅          ⋅          ⋅ \n",
       "   ⋅          ⋅         ⋅        …    ⋅          ⋅          ⋅ \n",
       "   ⋅          ⋅         ⋅             ⋅          ⋅          ⋅ \n",
       "   ⋅          ⋅         ⋅             ⋅          ⋅          ⋅ \n",
       "   ⋅          ⋅         ⋅             ⋅          ⋅          ⋅ \n",
       "   ⋅          ⋅         ⋅             ⋅          ⋅          ⋅ \n",
       "   ⋅          ⋅         ⋅        …    ⋅          ⋅          ⋅ \n",
       "   ⋅          ⋅         ⋅           -0.889278    ⋅          ⋅ \n",
       "   ⋅          ⋅         ⋅            0.865706   1.00094     ⋅ \n",
       "   ⋅          ⋅         ⋅            1.00094   -0.459856   1.32865\n",
       "   ⋅          ⋅         ⋅             ⋅         1.32865   -1.17523"
      ]
     },
     "execution_count": 186,
     "metadata": {},
     "output_type": "execute_result"
    }
   ],
   "source": [
    "# Трёхдиагональная матрица 1000000 х 1000000:\n",
    "n = 1000000;\n",
    "A = SymTridiagonal(randn(n), randn(n-1))"
   ]
  },
  {
   "cell_type": "code",
   "execution_count": 188,
   "id": "5b865411-0f59-4db6-8277-0836d8b4f396",
   "metadata": {},
   "outputs": [
    {
     "name": "stdout",
     "output_type": "stream",
     "text": [
      "  469.556 ms (44 allocations: 183.11 MiB)\n"
     ]
    },
    {
     "data": {
      "text/plain": [
       "6.642144092346992"
      ]
     },
     "execution_count": 188,
     "metadata": {},
     "output_type": "execute_result"
    }
   ],
   "source": [
    "# Оценка эффективности выполнения операции по нахождению\n",
    "# собственных значений:\n",
    "@btime eigmax(A)"
   ]
  },
  {
   "cell_type": "code",
   "execution_count": 190,
   "id": "e301e311-03b3-43be-8305-7dcfe1508735",
   "metadata": {},
   "outputs": [
    {
     "ename": "LoadError",
     "evalue": "OutOfMemoryError()",
     "output_type": "error",
     "traceback": [
      "OutOfMemoryError()",
      "",
      "Stacktrace:",
      " [1] \u001b[0m\u001b[1mGenericMemory\u001b[22m",
      "\u001b[90m   @\u001b[39m \u001b[90m.\\\u001b[39m\u001b[90m\u001b[4mboot.jl:516\u001b[24m\u001b[39m\u001b[90m [inlined]\u001b[39m",
      " [2] \u001b[0m\u001b[1mnew_as_memoryref\u001b[22m",
      "\u001b[90m   @\u001b[39m \u001b[90m.\\\u001b[39m\u001b[90m\u001b[4mboot.jl:535\u001b[24m\u001b[39m\u001b[90m [inlined]\u001b[39m",
      " [3] \u001b[0m\u001b[1mArray\u001b[22m",
      "\u001b[90m   @\u001b[39m \u001b[90m.\\\u001b[39m\u001b[90m\u001b[4mboot.jl:582\u001b[24m\u001b[39m\u001b[90m [inlined]\u001b[39m",
      " [4] \u001b[0m\u001b[1mMatrix{Float64}\u001b[22m\u001b[0m\u001b[1m(\u001b[22m\u001b[90mM\u001b[39m::\u001b[0mSymTridiagonal\u001b[90m{Float64, Vector{Float64}}\u001b[39m\u001b[0m\u001b[1m)\u001b[22m",
      "\u001b[90m   @\u001b[39m \u001b[35mLinearAlgebra\u001b[39m \u001b[90mC:\\Users\\airan\\AppData\\Local\\Programs\\Julia-1.11.3\\share\\julia\\stdlib\\v1.11\\LinearAlgebra\\src\\\u001b[39m\u001b[90m\u001b[4mtridiag.jl:136\u001b[24m\u001b[39m",
      " [5] (\u001b[0m\u001b[1mMatrix\u001b[22m)\u001b[0m\u001b[1m(\u001b[22m\u001b[90mM\u001b[39m::\u001b[0mSymTridiagonal\u001b[90m{Float64, Vector{Float64}}\u001b[39m\u001b[0m\u001b[1m)\u001b[22m",
      "\u001b[90m   @\u001b[39m \u001b[35mLinearAlgebra\u001b[39m \u001b[90mC:\\Users\\airan\\AppData\\Local\\Programs\\Julia-1.11.3\\share\\julia\\stdlib\\v1.11\\LinearAlgebra\\src\\\u001b[39m\u001b[90m\u001b[4mtridiag.jl:147\u001b[24m\u001b[39m",
      " [6] top-level scope",
      "\u001b[90m   @\u001b[39m \u001b[90m\u001b[4mIn[190]:1\u001b[24m\u001b[39m"
     ]
    }
   ],
   "source": [
    "B = Matrix(A)"
   ]
  },
  {
   "cell_type": "markdown",
   "id": "1280d71c-1884-40b6-9586-7883c94baa3a",
   "metadata": {},
   "source": [
    "# 6. Общая линейная алгебра"
   ]
  },
  {
   "cell_type": "code",
   "execution_count": 195,
   "id": "757b4cc4-7499-457e-958f-50dd4cc16dcd",
   "metadata": {},
   "outputs": [
    {
     "data": {
      "text/plain": [
       "3×3 Matrix{Rational{BigInt}}:\n",
       " 1//2  9//10  7//10\n",
       " 4//5  3//5   4//5\n",
       " 1//5  3//10  1//10"
      ]
     },
     "execution_count": 195,
     "metadata": {},
     "output_type": "execute_result"
    }
   ],
   "source": [
    "# Матрица с рациональными элементами:\n",
    "Arational = Matrix{Rational{BigInt}}(rand(1:10, 3, 3))/10"
   ]
  },
  {
   "cell_type": "code",
   "execution_count": 197,
   "id": "b8c871ff-42cb-4531-9b2d-9c53568207ba",
   "metadata": {},
   "outputs": [
    {
     "data": {
      "text/plain": [
       "3-element Vector{Int64}:\n",
       " 1\n",
       " 1\n",
       " 1"
      ]
     },
     "execution_count": 197,
     "metadata": {},
     "output_type": "execute_result"
    }
   ],
   "source": [
    "# Единичный вектор:\n",
    "x = fill(1, 3)"
   ]
  },
  {
   "cell_type": "code",
   "execution_count": 199,
   "id": "186f4e58-697c-4428-867e-36b0dcb4dc89",
   "metadata": {},
   "outputs": [
    {
     "data": {
      "text/plain": [
       "3-element Vector{Rational{BigInt}}:\n",
       " 21//10\n",
       " 11//5\n",
       "  3//5"
      ]
     },
     "execution_count": 199,
     "metadata": {},
     "output_type": "execute_result"
    }
   ],
   "source": [
    "# Задаём вектор b:\n",
    "b = Arational*x"
   ]
  },
  {
   "cell_type": "code",
   "execution_count": 201,
   "id": "3464a6db-4f59-4621-b3a0-7e6db340db08",
   "metadata": {},
   "outputs": [
    {
     "data": {
      "text/plain": [
       "3-element Vector{Rational{BigInt}}:\n",
       " 1\n",
       " 1\n",
       " 1"
      ]
     },
     "execution_count": 201,
     "metadata": {},
     "output_type": "execute_result"
    }
   ],
   "source": [
    "# Решение исходного уравнения получаем с помощью функции \\\n",
    "# (убеждаемся, что x - единичный вектор):\n",
    "Arational\\b"
   ]
  },
  {
   "cell_type": "code",
   "execution_count": 203,
   "id": "e656b011-9f98-4e1c-95be-ae34933ec74d",
   "metadata": {},
   "outputs": [
    {
     "data": {
      "text/plain": [
       "LU{Rational{BigInt}, Matrix{Rational{BigInt}}, Vector{Int64}}\n",
       "L factor:\n",
       "3×3 Matrix{Rational{BigInt}}:\n",
       "  1     0    0\n",
       " 5//8   1    0\n",
       " 1//4  2//7  1\n",
       "U factor:\n",
       "3×3 Matrix{Rational{BigInt}}:\n",
       " 4//5   3//5     4//5\n",
       "  0    21//40    1//5\n",
       "  0      0     -11//70"
      ]
     },
     "execution_count": 203,
     "metadata": {},
     "output_type": "execute_result"
    }
   ],
   "source": [
    "# LU-разложение:\n",
    "lu(Arational)"
   ]
  },
  {
   "cell_type": "markdown",
   "id": "41160e9d-0368-4d82-8330-705418f5ee63",
   "metadata": {},
   "source": [
    "# Самостоятельная работа"
   ]
  },
  {
   "cell_type": "markdown",
   "id": "c1b719c8-ee7d-40fd-927f-694e724586ce",
   "metadata": {},
   "source": [
    "## Произведение векторов"
   ]
  },
  {
   "cell_type": "markdown",
   "id": "5fed623c-df12-44f9-9747-8c02ca31e39c",
   "metadata": {},
   "source": [
    "### 1. Задайте вектор v. Умножьте вектор v скалярно сам на себя и сохраните результат в dot_v."
   ]
  },
  {
   "cell_type": "code",
   "execution_count": 3,
   "id": "39f769a1-73a3-4ee3-b8b3-e6d0a5c14262",
   "metadata": {},
   "outputs": [
    {
     "data": {
      "text/plain": [
       "30"
      ]
     },
     "execution_count": 3,
     "metadata": {},
     "output_type": "execute_result"
    }
   ],
   "source": [
    "using LinearAlgebra\n",
    "v = [1, 2, 3, 4]\n",
    "dot_v = dot(v, v)"
   ]
  },
  {
   "cell_type": "markdown",
   "id": "f568ad43-c3c2-445a-a3c5-42eef56a70a7",
   "metadata": {},
   "source": [
    "### 2. Умножьте v матрично на себя (внешнее произведение), присвоив результат переменной outer_v.\n"
   ]
  },
  {
   "cell_type": "code",
   "execution_count": 8,
   "id": "18674e11-202a-49f0-9313-67d6c657eada",
   "metadata": {},
   "outputs": [
    {
     "data": {
      "text/plain": [
       "4×4 Matrix{Int64}:\n",
       " 1  2   3   4\n",
       " 2  4   6   8\n",
       " 3  6   9  12\n",
       " 4  8  12  16"
      ]
     },
     "execution_count": 8,
     "metadata": {},
     "output_type": "execute_result"
    }
   ],
   "source": [
    "outer_v = v * v'"
   ]
  },
  {
   "cell_type": "markdown",
   "id": "d14f3f2e-6d13-4625-aac3-3721f4be045e",
   "metadata": {},
   "source": [
    "## Системы линейных уравнений"
   ]
  },
  {
   "cell_type": "markdown",
   "id": "47ec9667-c771-43a3-8aa0-b28f70b6efee",
   "metadata": {},
   "source": [
    "### 1. Решить СЛАУ с двумя неизвестными."
   ]
  },
  {
   "cell_type": "code",
   "execution_count": 29,
   "id": "2aa2c069-d4ad-4f23-957f-7257fb118990",
   "metadata": {},
   "outputs": [
    {
     "data": {
      "text/plain": [
       "2-element Vector{Float64}:\n",
       "  2.5\n",
       " -0.5"
      ]
     },
     "execution_count": 29,
     "metadata": {},
     "output_type": "execute_result"
    }
   ],
   "source": [
    "# a)\n",
    "Aa = [1 1; 1 -1]\n",
    "Ba = [2, 3]\n",
    "Ca = Aa \\ Ba"
   ]
  },
  {
   "cell_type": "code",
   "execution_count": 41,
   "id": "7ff95f30-06b7-4225-a4f2-a5f095c01172",
   "metadata": {},
   "outputs": [
    {
     "name": "stdout",
     "output_type": "stream",
     "text": [
      "0.0\n",
      "1\n",
      "2.0140709820486308e16\n",
      "Система линейно зависимая, бесконечное множестов решений\n"
     ]
    }
   ],
   "source": [
    "# b)\n",
    "Ab = [1 1; 2 2]\n",
    "Bb = [2, 4]\n",
    "println(det(Ab))\n",
    "println(rank(Ab))\n",
    "println(cond(Ab))\n",
    "println(\"Система линейно зависимая, бесконечное множестов решений\")"
   ]
  },
  {
   "cell_type": "code",
   "execution_count": 47,
   "id": "8d60ee75-15ae-4b91-94a1-6f17a19a1e89",
   "metadata": {},
   "outputs": [
    {
     "name": "stdout",
     "output_type": "stream",
     "text": [
      "0.0\n",
      "1\n",
      "2.0140709820486308e16\n",
      "Система линейно зависимая, бесконечное множестов решений\n"
     ]
    }
   ],
   "source": [
    "# с)\n",
    "Ac = [1 1; 2 2]\n",
    "Bc = [5, 2]\n",
    "println(det(Ac))\n",
    "println(rank(Ac))\n",
    "println(cond(Ac))\n",
    "println(\"Система линейно зависимая, бесконечное множестов решений\")"
   ]
  },
  {
   "cell_type": "code",
   "execution_count": 59,
   "id": "ada115dd-f0a7-4bd7-bd09-ecefea6a88e6",
   "metadata": {},
   "outputs": [
    {
     "data": {
      "text/plain": [
       "2-element Vector{Float64}:\n",
       " 0.4999999999999999\n",
       " 0.5"
      ]
     },
     "execution_count": 59,
     "metadata": {},
     "output_type": "execute_result"
    }
   ],
   "source": [
    "# d)\n",
    "Ad = [1 1; 2 2; 3 3]\n",
    "Bd = [1, 2, 3]\n",
    "Cd = Ad \\ Bd"
   ]
  },
  {
   "cell_type": "code",
   "execution_count": 61,
   "id": "edd5b3a8-3125-4d65-a6a6-352bf9864404",
   "metadata": {},
   "outputs": [
    {
     "data": {
      "text/plain": [
       "2-element Vector{Float64}:\n",
       "  1.5000000000000004\n",
       " -0.9999999999999997"
      ]
     },
     "execution_count": 61,
     "metadata": {},
     "output_type": "execute_result"
    }
   ],
   "source": [
    "# e)\n",
    "Ae = [1 1; 2 1; 1 -1]\n",
    "Be = [2, 1, 3]\n",
    "Ce = Ae \\ Be"
   ]
  },
  {
   "cell_type": "code",
   "execution_count": 63,
   "id": "57229909-3369-4de2-84c9-16e766f8aed4",
   "metadata": {},
   "outputs": [
    {
     "data": {
      "text/plain": [
       "2-element Vector{Float64}:\n",
       " -0.9999999999999989\n",
       "  2.9999999999999982"
      ]
     },
     "execution_count": 63,
     "metadata": {},
     "output_type": "execute_result"
    }
   ],
   "source": [
    "# f)\n",
    "Af = [1 1; 2 1; 3 2]\n",
    "Bf = [2, 1, 3]\n",
    "Cf = Af \\ Bf"
   ]
  },
  {
   "cell_type": "markdown",
   "id": "4118e63c-4eed-417e-94ec-403622fd892d",
   "metadata": {},
   "source": [
    "### 2. Решить СЛАУ с тремя неизвестными."
   ]
  },
  {
   "cell_type": "code",
   "execution_count": 66,
   "id": "91f8d12d-466f-4177-89ed-560f6a49f1b9",
   "metadata": {},
   "outputs": [
    {
     "data": {
      "text/plain": [
       "3-element Vector{Float64}:\n",
       "  2.2142857142857144\n",
       "  0.35714285714285704\n",
       " -0.5714285714285712"
      ]
     },
     "execution_count": 66,
     "metadata": {},
     "output_type": "execute_result"
    }
   ],
   "source": [
    "# a)\n",
    "A2a = [1 1 1; 1 -1 -2]\n",
    "B2a = [2, 3]\n",
    "C2a = A2a \\ B2a"
   ]
  },
  {
   "cell_type": "code",
   "execution_count": 68,
   "id": "f3c47a74-98c3-48ca-8deb-96ef7a52c34e",
   "metadata": {},
   "outputs": [
    {
     "data": {
      "text/plain": [
       "3-element Vector{Float64}:\n",
       " -0.5\n",
       "  2.5\n",
       "  0.0"
      ]
     },
     "execution_count": 68,
     "metadata": {},
     "output_type": "execute_result"
    }
   ],
   "source": [
    "# b)\n",
    "A2b = [1 1 1; 2 2 -3; 3 1 1]\n",
    "B2b = [2, 4, 1]\n",
    "C2b = A2b \\ B2b"
   ]
  },
  {
   "cell_type": "code",
   "execution_count": 74,
   "id": "ffaa7d6b-5a74-4c77-b946-45b22f0a713a",
   "metadata": {},
   "outputs": [
    {
     "name": "stdout",
     "output_type": "stream",
     "text": [
      "0.0\n",
      "2\n",
      "2.590401531955156e16\n",
      "Система линейно зависимая, бесконечное множестов решений\n"
     ]
    }
   ],
   "source": [
    "# c)\n",
    "A2c = [1 1 1; 1 1 2; 2 2 3]\n",
    "B2c = [1, 0, 1]\n",
    "#C2c = A2c \\ B2c\n",
    "println(det(A2c))\n",
    "println(rank(A2c))\n",
    "println(cond(A2c))\n",
    "println(\"Система линейно зависимая, бесконечное множестов решений\")"
   ]
  },
  {
   "cell_type": "code",
   "execution_count": 80,
   "id": "79a26d51-0bee-4854-a978-0cb0413bad0c",
   "metadata": {},
   "outputs": [
    {
     "name": "stdout",
     "output_type": "stream",
     "text": [
      "0.0\n",
      "2\n",
      "2.590401531955156e16\n",
      "Система линейно зависимая, бесконечное множестов решений\n"
     ]
    }
   ],
   "source": [
    "# d)\n",
    "A2d = [1 1 1; 1 1 2; 2 2 3]\n",
    "B2d = [1, 0, 0]\n",
    "#C2d = A2d \\ B2d\n",
    "println(det(A2d))\n",
    "println(rank(A2d))\n",
    "println(cond(A2d))\n",
    "println(\"Система линейно зависимая, бесконечное множестов решений\")"
   ]
  },
  {
   "cell_type": "markdown",
   "id": "20a39ce8-00f8-439f-aa19-65986b43fddf",
   "metadata": {},
   "source": [
    "### Операции с матрицами"
   ]
  },
  {
   "cell_type": "markdown",
   "id": "2e9455a1-aed9-40c5-8d34-57356deb8ff2",
   "metadata": {},
   "source": [
    "### 1. Приведите приведённые ниже матрицы к диагональному виду"
   ]
  },
  {
   "cell_type": "code",
   "execution_count": 89,
   "id": "90a34712-7f02-43fe-9ecf-b8321b3ac2d9",
   "metadata": {},
   "outputs": [
    {
     "data": {
      "text/plain": [
       "2-element Vector{Int64}:\n",
       " 1\n",
       " 1"
      ]
     },
     "execution_count": 89,
     "metadata": {},
     "output_type": "execute_result"
    }
   ],
   "source": [
    "# a)\n",
    "Aa = [1 -2; -2 1]\n",
    "diag(Aa)"
   ]
  },
  {
   "cell_type": "code",
   "execution_count": 91,
   "id": "380092ae-9bd4-414f-99e3-b393e210ca70",
   "metadata": {},
   "outputs": [
    {
     "data": {
      "text/plain": [
       "2-element Vector{Int64}:\n",
       " 1\n",
       " 3"
      ]
     },
     "execution_count": 91,
     "metadata": {},
     "output_type": "execute_result"
    }
   ],
   "source": [
    "# b)\n",
    "Ab = [1 -2; -2 3]\n",
    "diag(Ab)"
   ]
  },
  {
   "cell_type": "code",
   "execution_count": 95,
   "id": "8026ff45-0d72-46de-9191-8f0368d5878d",
   "metadata": {},
   "outputs": [
    {
     "data": {
      "text/plain": [
       "3-element Vector{Int64}:\n",
       " 1\n",
       " 1\n",
       " 0"
      ]
     },
     "execution_count": 95,
     "metadata": {},
     "output_type": "execute_result"
    }
   ],
   "source": [
    "# c)\n",
    "Ac = [1 -2 0; -2 1 2; 0 2 0]\n",
    "diag(Ac)"
   ]
  },
  {
   "cell_type": "markdown",
   "id": "f511d575-85dd-4d70-8190-1cc6b195b8a3",
   "metadata": {},
   "source": [
    "### 2. Вычислите"
   ]
  },
  {
   "cell_type": "code",
   "execution_count": 98,
   "id": "29c012f0-48cf-4669-a617-5bfcaef2beb1",
   "metadata": {},
   "outputs": [
    {
     "data": {
      "text/plain": [
       "2×2 Matrix{Int64}:\n",
       "  29525  -29524\n",
       " -29524   29525"
      ]
     },
     "execution_count": 98,
     "metadata": {},
     "output_type": "execute_result"
    }
   ],
   "source": [
    "# a)\n",
    "Aa = [1 -2; -2 1]\n",
    "Aa_pow = Aa^10"
   ]
  },
  {
   "cell_type": "code",
   "execution_count": 108,
   "id": "348a365e-2676-4cab-b5ab-fec27752c1b8",
   "metadata": {},
   "outputs": [
    {
     "data": {
      "text/plain": [
       "2×2 Matrix{Float64}:\n",
       "  2.1889   -0.45685\n",
       " -0.45685   2.1889"
      ]
     },
     "execution_count": 108,
     "metadata": {},
     "output_type": "execute_result"
    }
   ],
   "source": [
    "# b)\n",
    "Ab = [5 -2; -2 5]\n",
    "Ab_sqrt = sqrt(Ab)"
   ]
  },
  {
   "cell_type": "code",
   "execution_count": 110,
   "id": "798b50ab-6219-45f2-a92a-dde322b1c1fd",
   "metadata": {},
   "outputs": [
    {
     "data": {
      "text/plain": [
       "2×2 Symmetric{Float64, Matrix{Float64}}:\n",
       "  0.737843  -0.439807\n",
       " -0.439807   1.61746"
      ]
     },
     "execution_count": 110,
     "metadata": {},
     "output_type": "execute_result"
    }
   ],
   "source": [
    "# c)\n",
    "Ac = [1 -2; -2 5]\n",
    "Ac_cbrt = Ac^(1/3)"
   ]
  },
  {
   "cell_type": "code",
   "execution_count": 112,
   "id": "9653233d-298e-440c-870b-0762a6f98c49",
   "metadata": {},
   "outputs": [
    {
     "data": {
      "text/plain": [
       "2×2 Matrix{ComplexF64}:\n",
       " 0.568864+0.351578im  0.920442-0.217287im\n",
       " 0.920442-0.217287im   1.48931+0.134291im"
      ]
     },
     "execution_count": 112,
     "metadata": {},
     "output_type": "execute_result"
    }
   ],
   "source": [
    "# d)\n",
    "Ad = [1 2; 2 3]\n",
    "Ad_sqrt = sqrt(Ad)"
   ]
  },
  {
   "cell_type": "markdown",
   "id": "3a3e0a87-23c5-429c-b172-53e87b88cc2f",
   "metadata": {},
   "source": [
    "### 3. Найдите собственные значения матрицы 𝐴. Создайте диагональную матрицу из собственных значений матрицы 𝐴. Создайте нижнедиагональную матрицу из матрица 𝐴. Оцените эффективность выполняемых операций.\n"
   ]
  },
  {
   "cell_type": "code",
   "execution_count": 121,
   "id": "c8f9779c-f3f0-47e3-a9b7-fce401278bdd",
   "metadata": {},
   "outputs": [
    {
     "data": {
      "text/plain": [
       "5-element Vector{Float64}:\n",
       " -128.49322764802145\n",
       "  -55.88778455305688\n",
       "   42.75216727931894\n",
       "   87.16111477514521\n",
       "  542.4677301466143"
      ]
     },
     "execution_count": 121,
     "metadata": {},
     "output_type": "execute_result"
    }
   ],
   "source": [
    "using BenchmarkTools\n",
    "A = [140 97 74 168 131;\n",
    "    97 106 89 131 36;\n",
    "    74 89 152 144 71;\n",
    "    168 131 144 54 142\n",
    "    131 36 71 142 36]\n",
    "\n",
    "# собственные значения матрицы\n",
    "eigvals_A = eigvals(A)"
   ]
  },
  {
   "cell_type": "code",
   "execution_count": 125,
   "id": "b07cb989-33a6-4612-bc94-34b00d03af30",
   "metadata": {},
   "outputs": [
    {
     "data": {
      "text/plain": [
       "5×5 Diagonal{Float64, Vector{Float64}}:\n",
       " -128.493     ⋅        ⋅        ⋅         ⋅ \n",
       "     ⋅     -55.8878    ⋅        ⋅         ⋅ \n",
       "     ⋅        ⋅      42.7522    ⋅         ⋅ \n",
       "     ⋅        ⋅        ⋅      87.1611     ⋅ \n",
       "     ⋅        ⋅        ⋅        ⋅      542.468"
      ]
     },
     "execution_count": 125,
     "metadata": {},
     "output_type": "execute_result"
    }
   ],
   "source": [
    "# диагональная матрица из собственных значений\n",
    "D = Diagonal(eigvals_A)"
   ]
  },
  {
   "cell_type": "code",
   "execution_count": 129,
   "id": "ddf70b1a-6f8e-4590-9e29-2c44de5f3599",
   "metadata": {},
   "outputs": [
    {
     "data": {
      "text/plain": [
       "5×5 LowerTriangular{Int64, Matrix{Int64}}:\n",
       " 140    ⋅    ⋅    ⋅   ⋅\n",
       "  97  106    ⋅    ⋅   ⋅\n",
       "  74   89  152    ⋅   ⋅\n",
       " 168  131  144   54   ⋅\n",
       " 131   36   71  142  36"
      ]
     },
     "execution_count": 129,
     "metadata": {},
     "output_type": "execute_result"
    }
   ],
   "source": [
    "# нижнедиагональная матрица \n",
    "B = LowerTriangular(A)"
   ]
  },
  {
   "cell_type": "code",
   "execution_count": 131,
   "id": "15762d84-d204-4a6e-9af2-8c77dd96abf0",
   "metadata": {},
   "outputs": [
    {
     "name": "stdout",
     "output_type": "stream",
     "text": [
      "  1.470 μs (15 allocations: 2.55 KiB)\n"
     ]
    },
    {
     "data": {
      "text/plain": [
       "5-element Vector{Float64}:\n",
       " -128.49322764802145\n",
       "  -55.88778455305688\n",
       "   42.75216727931894\n",
       "   87.16111477514521\n",
       "  542.4677301466143"
      ]
     },
     "execution_count": 131,
     "metadata": {},
     "output_type": "execute_result"
    }
   ],
   "source": [
    "@btime eigvals(A)"
   ]
  },
  {
   "cell_type": "code",
   "execution_count": 133,
   "id": "ea91c154-1105-46df-9d01-462878bfd116",
   "metadata": {},
   "outputs": [
    {
     "name": "stdout",
     "output_type": "stream",
     "text": [
      "  159.566 ns (1 allocation: 16 bytes)\n"
     ]
    },
    {
     "data": {
      "text/plain": [
       "5×5 LowerTriangular{Int64, Matrix{Int64}}:\n",
       " 140    ⋅    ⋅    ⋅   ⋅\n",
       "  97  106    ⋅    ⋅   ⋅\n",
       "  74   89  152    ⋅   ⋅\n",
       " 168  131  144   54   ⋅\n",
       " 131   36   71  142  36"
      ]
     },
     "execution_count": 133,
     "metadata": {},
     "output_type": "execute_result"
    }
   ],
   "source": [
    "@btime LowerTriangular(A)"
   ]
  },
  {
   "cell_type": "markdown",
   "id": "a10e1844-cf76-412b-9ff8-fbb961af0fb2",
   "metadata": {},
   "source": [
    "## Линейные модели экономики"
   ]
  },
  {
   "cell_type": "markdown",
   "id": "15561f55-1932-45ca-b6df-a40c852b76bc",
   "metadata": {},
   "source": [
    "### 1. Матрица 𝐴 называется продуктивной, если решение 𝑥 системы при любой неотрицательной правой части 𝑦 имеет только неотрицательные элементы 𝑥𝑖 . Используя это определение, проверьте, являются ли матрицы продуктивными.\n"
   ]
  },
  {
   "cell_type": "code",
   "execution_count": 139,
   "id": "7cd0a5ee-a02c-4555-a073-fd905ef6b935",
   "metadata": {},
   "outputs": [
    {
     "name": "stdout",
     "output_type": "stream",
     "text": [
      "Проверка продуктивности\n",
      "a) Непродуктивная\n",
      "b) Непродуктивная\n",
      "c) Продуктиная\n"
     ]
    }
   ],
   "source": [
    "A1 = [1 2; 3 4]\n",
    "A2 = (1/2) * A1\n",
    "A3 = (1/10) * A1\n",
    "A4 = [0.1 0.2 0.3; 0 0.1 0.2; 0 0.1 0.3]\n",
    "\n",
    "function check_productive(A, test_vectors=10)\n",
    "    n = size(A, 1)\n",
    "    E = Matrix{Float64}(I, n, n)\n",
    "\n",
    "    for i in 1:test_vectors\n",
    "        y = rand(n)\n",
    "        try\n",
    "            x = (E - A) \\ y\n",
    "            if any(x .< 0)\n",
    "                return false\n",
    "            end\n",
    "        catch\n",
    "            return false\n",
    "        end\n",
    "    end\n",
    "    return true\n",
    "end\n",
    "\n",
    "println(\"Проверка продуктивности\")\n",
    "println(\"a) \", check_productive(A1) ? \"Продуктиная\" : \"Непродуктивная\")\n",
    "println(\"b) \", check_productive(A2) ? \"Продуктиная\" : \"Непродуктивная\")\n",
    "println(\"c) \", check_productive(A3) ? \"Продуктиная\" : \"Непродуктивная\")"
   ]
  },
  {
   "cell_type": "code",
   "execution_count": 141,
   "id": "306700e9-776f-4c77-9e9f-f71d25b98d72",
   "metadata": {},
   "outputs": [
    {
     "name": "stdout",
     "output_type": "stream",
     "text": [
      "Проверка продуктивности по критерию (E - A)^(-1)\n",
      "a) Не продуктивна\n",
      "b) Не продуктивна\n",
      "c) Продуктина\n"
     ]
    }
   ],
   "source": [
    "# проверка продуктивности по критерию (E - A)^(-1)\n",
    "function check_productive_criterion(A)\n",
    "    n = size(A, 1)\n",
    "    E = Matrix{Float64}(I, n, n)\n",
    "    try\n",
    "        inv_matrix = inv(E - A)\n",
    "        return all(inv_matrix .>= 0)\n",
    "    catch\n",
    "        return false\n",
    "    end\n",
    "end\n",
    "\n",
    "println(\"Проверка продуктивности по критерию (E - A)^(-1)\")\n",
    "\n",
    "println(\"a) \", check_productive_criterion(A1) ? \"Продуктина\" : \"Не продуктивна\")\n",
    "println(\"b) \", check_productive_criterion(A2) ? \"Продуктина\" : \"Не продуктивна\")\n",
    "println(\"c) \", check_productive_criterion(A3) ? \"Продуктина\" : \"Не продуктивна\")"
   ]
  },
  {
   "cell_type": "code",
   "execution_count": 149,
   "id": "bb5e1a81-0265-477d-b53f-ad8a36907fea",
   "metadata": {},
   "outputs": [
    {
     "name": "stdout",
     "output_type": "stream",
     "text": [
      "Проверка продуктивности по спектральному критерию\n",
      "a) Не продуктивна\n",
      "b) Не продуктивна\n",
      "c) Продуктина\n",
      "d) Продуктина\n"
     ]
    }
   ],
   "source": [
    "# проверка продуктивности по спектральному критерию\n",
    "function check_productive_spectral(A)\n",
    "    eig_vals = eigvals(A)\n",
    "    return all(abs.(eig_vals) .< 1)\n",
    "end\n",
    "println(\"Проверка продуктивности по спектральному критерию\")\n",
    "println(\"a) \", check_productive_spectral(A1) ? \"Продуктина\" : \"Не продуктивна\")\n",
    "println(\"b) \", check_productive_spectral(A2) ? \"Продуктина\" : \"Не продуктивна\")\n",
    "println(\"c) \", check_productive_spectral(A3) ? \"Продуктина\" : \"Не продуктивна\")\n",
    "println(\"d) \", check_productive_spectral(A3) ? \"Продуктина\" : \"Не продуктивна\")"
   ]
  },
  {
   "cell_type": "code",
   "execution_count": null,
   "id": "d1bf4241-5acd-423d-bf42-a0cecad4917e",
   "metadata": {},
   "outputs": [],
   "source": []
  }
 ],
 "metadata": {
  "kernelspec": {
   "display_name": "Julia 1.11.3",
   "language": "julia",
   "name": "julia-1.11"
  },
  "language_info": {
   "file_extension": ".jl",
   "mimetype": "application/julia",
   "name": "julia",
   "version": "1.11.3"
  }
 },
 "nbformat": 4,
 "nbformat_minor": 5
}
